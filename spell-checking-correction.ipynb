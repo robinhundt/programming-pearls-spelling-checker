{
 "cells": [
  {
   "cell_type": "markdown",
   "metadata": {
    "slideshow": {
     "slide_type": "slide"
    }
   },
   "source": [
    "# Data structures and algorithms for spell checking and correction\n",
    "\n",
    "By Robin William Hundt, University of Göttingen  \n",
    "Inspired by John Bentleys article \"A spelling checker\" [1]  \n",
    "<br>\n",
    "Git: https://gitlab.gwdg.de/robinwilliam.hundt/programming-pearls-spelling-checker"
   ]
  },
  {
   "cell_type": "markdown",
   "metadata": {},
   "source": [
    "# Table of contents\n",
    "\n",
    "1. [Introduction](#intro)\n",
    "2. [Spell checking](#spell-checking)\n",
    "    1. [Original spell program and Python implementation](#spell)\n",
    "    2. [Testing the implementation](#testing-spell)\n",
    "    3. [Trie data structure](#trie-data-structure)\n",
    "    4. [Testing of trie and benchmarks](#testing-trie)\n",
    "    5. [Spell checking: conclusion](#checking-conclusion)\n",
    "3. [Spelling correction](#spell-correcting)\n",
    "    1. [Distance of strings](#string-distance)\n",
    "    2. [Frequency of strings and fast corrector](#freq-fast-corrector)\n",
    "    3. [Symmetric delete spelling correction (SymSpell)](#sym-spell)\n",
    "    4. [SymSpell benchmarks](#testing-sym-spell)\n",
    "    5. [Corrector accuracy](#corrector-accuracy)\n",
    "    6. [Spelling correction: conclusion](#correcting-conclusion)\n",
    "4. [References](#references)\n",
    "    1. [Data sources](#data-sources)\n",
    "    2. [Libraries](#libraries)"
   ]
  },
  {
   "cell_type": "markdown",
   "metadata": {
    "slideshow": {
     "slide_type": "notes"
    }
   },
   "source": [
    "# Introduction <a name=\"intro\"/>\n",
    "\n",
    "This notebook is a technical preparation about data structures and algorithms for spell checking and correction.  \n",
    "It has been developed for the *Programming pearls* seminar at the university of Goettingen (May - June 2018) and is inspired by John Bentleys article *A spelling checker* which was part of his *programming pearls* article series[1].  \n",
    "  \n",
    "All relevant data sources are included in the repository.\n",
    "\n",
    "### Dependencies\n",
    "To install the necessary dependencies simply execute within a cell or a terminal (here without the !)\n",
    "```bash\n",
    "!pip install --user -r requirements.txt\n",
    "```"
   ]
  },
  {
   "cell_type": "code",
   "execution_count": 3,
   "metadata": {
    "slideshow": {
     "slide_type": "skip"
    }
   },
   "outputs": [],
   "source": [
    "# just some boring imports\n",
    "from io import StringIO\n",
    "from time import sleep\n",
    "from typing import Set, Tuple, Iterable, Callable, List, Dict\n",
    "from types import MethodType\n",
    "from functools import partial\n",
    "import re\n",
    "import timeit\n",
    "import gc\n",
    "\n",
    "import marisa_trie\n",
    "import numpy as np\n",
    "import matplotlib.pyplot as plt\n",
    "from pympler.asizeof import asizeof\n",
    "from IPython.core.interactiveshell import InteractiveShell\n",
    "\n",
    "InteractiveShell.ast_node_interactivity = \"all\"\n",
    "\n",
    "%load_ext memory_profiler\n",
    "%matplotlib inline\n",
    "\n",
    "# small decorator to split class definitions over several slides\n",
    "def add_to_class(cls):\n",
    "    def decorator(fn):\n",
    "        setattr(cls, fn.__name__, fn)\n",
    "        return fn\n",
    "    return decorator"
   ]
  },
  {
   "cell_type": "markdown",
   "metadata": {
    "slideshow": {
     "slide_type": "notes"
    }
   },
   "source": [
    "# Spell checking <a name=\"spell-checking\"/>\n",
    "## Original spell program and Python implementation <a name=\"spell\"/>\n",
    "\n",
    "In 1975 Steve Johnson wrote the first version of the `spell` program[1]. The improved version by Douglas McIlroy would later become the standard english language spell checker on Unix (introduced in v7 [2]).  \n",
    "The original version is particularly interesting for it's simplicity and clever combination of already existing porgrams with highly specific functions into a new program that has a clearly defined functionality:\n",
    "\n",
    "![](spell-checker-diagram.svg)"
   ]
  },
  {
   "cell_type": "markdown",
   "metadata": {
    "slideshow": {
     "slide_type": "slide"
    }
   },
   "source": [
    "Reconstructed version of Steve Johnsons spell (Kernighan and Bauer, Software Tools in Pascal)\n",
    "\n",
    "``` bash\n",
    "prepare filename |                 # remove formatting commands\n",
    "    translit A-Z a-z |             # map upper to lower case\n",
    "        translit ^a-z @n |         # remove punctuation\n",
    "            sort |                 # put words in alphabetical order\n",
    "                unique |           # remove duplicate words\n",
    "                    common -2 dict # report words not in dictionary\n",
    "```\n",
    "*source: [1]*"
   ]
  },
  {
   "cell_type": "markdown",
   "metadata": {},
   "source": [
    "The shell pipeline operator `|` is used to *pipe* the output of the program on the left side to the program on the right side as its input. Using this, several porgrams can be chained together in a clear and concise way.\n",
    "  \n",
    "Unfortunately there is no *pipe* operator in Python, but by utilizing the comprehensive standard libraries we can implement nearly the same functionality that the original `spell` offered in a few lines of code."
   ]
  },
  {
   "cell_type": "code",
   "execution_count": 4,
   "metadata": {
    "slideshow": {
     "slide_type": "fragment"
    }
   },
   "outputs": [],
   "source": [
    "def spell(filename: str, word_dict: str) -> Set[str]:\n",
    "    w = set(word_dict.lower().split('\\n'))\n",
    "    with open(filename) as f:\n",
    "        return set(re.sub(r\"[^a-z]\", \"\\n\", f.read().lower()).split('\\n')) - w"
   ]
  },
  {
   "cell_type": "markdown",
   "metadata": {
    "slideshow": {
     "slide_type": "notes"
    }
   },
   "source": [
    "This version however has, some of the same shortcomings as Steve Johnsons, e.g. `isn't` is converted to `isn` and `t` which aren't english words, but `isn't` is."
   ]
  },
  {
   "cell_type": "markdown",
   "metadata": {
    "slideshow": {
     "slide_type": "slide"
    }
   },
   "source": [
    "## Testing the implementation <a name=\"testing-spell\"/>\n",
    "In order to test the function we need two things:  \n",
    "1. A text file with a big amount of english text\n",
    "2. A dictionary where we look up the words of the input text  \n",
    "\n",
    "As a text file we can use the `big.txt` file provided by [Peter Norvig](http://norvig.com/) [D1] which is a concatination of public domain book excerpts from [Project Gutenberg](http://www.gutenberg.org/wiki/Main_Page)(inaccessible with a german IP) and lists of most frequent english words.  \n",
    "Following is the number of words inside that fille and a small excerpt."
   ]
  },
  {
   "cell_type": "code",
   "execution_count": 5,
   "metadata": {
    "slideshow": {
     "slide_type": "-"
    }
   },
   "outputs": [
    {
     "name": "stdout",
     "output_type": "stream",
     "text": [
      "word count: 1095695 big.txt \n",
      "\n",
      "\"You can easily imagine, Mr. Holmes, how curious I became as to what the meaning of this extraordinary performance could possibly be. They were always very careful, I observed, to turn my face away from the window, so that I became consumed with the desire to see what was going on behind my back. At first it seemed to be impossible, but I soon devised a means. My hand-mirror had been broken, so a happy thought seized me, and I concealed a piece of the glass in my handkerchief. On the next occasion, in the midst of my laughter, I put my handkerchief up to my eyes, and was able with a little management to see all that there was behind me. I confess that I was disappointed. There was nothing. At least that was my first impression. At the second glance, however, I perceived that there was a man standing in the Southampton Road, a small bearded man in a grey suit, who seemed to be looking in my direction. The road is an important highway, and there are usually people there. This man, however, was leaning against the railings which bordered our field and was looking earnestly up. I lowered my handkerchief and glanced at Mrs. Rucastle to find her eyes fixed upon me with a most searching gaze. She said nothing, but I am convinced that she had divined that I had a mirror in my hand and had seen what was behind me. She rose at once.\n"
     ]
    }
   ],
   "source": [
    "!echo word count: $(wc -w big.txt) '\\n'\n",
    "!head -n 5000 big.txt | tail -n 1"
   ]
  },
  {
   "cell_type": "markdown",
   "metadata": {},
   "source": [
    "So we have our big text file of english text, now we need a dictionary.\n",
    "Luckily on most Unix and Unix-like systems there is a comprehensive newline delimeted dictionary text file available. The file usually resides under `/usr/share/dict/words` od `/usr/dict/words`. To ensure portability the file is also available inside the repository as `american-english`."
   ]
  },
  {
   "cell_type": "code",
   "execution_count": 6,
   "metadata": {
    "slideshow": {
     "slide_type": "-"
    }
   },
   "outputs": [
    {
     "name": "stdout",
     "output_type": "stream",
     "text": [
      "word count: 99171 american-english \n",
      "\n",
      "Eula\n",
      "Eula's\n",
      "Euler\n",
      "Eumenides\n",
      "Eumenides's\n",
      "Eunice\n",
      "Eunice's\n",
      "Euphrates\n",
      "Euphrates's\n",
      "Eurasia\n"
     ]
    }
   ],
   "source": [
    "!echo word count: $(wc -w american-english) '\\n'\n",
    "!head -n 5000 american-english | tail"
   ]
  },
  {
   "cell_type": "markdown",
   "metadata": {},
   "source": [
    "We read in the dictionary file as a single string to be passed to our Python version of `spell`."
   ]
  },
  {
   "cell_type": "code",
   "execution_count": 47,
   "metadata": {
    "slideshow": {
     "slide_type": "skip"
    }
   },
   "outputs": [],
   "source": [
    "with open('american-english') as w:\n",
    "    words_file = w.read()"
   ]
  },
  {
   "cell_type": "markdown",
   "metadata": {
    "slideshow": {
     "slide_type": "slide"
    }
   },
   "source": [
    "Now that we have the necessary files requiered to assess the quality of our implementation we must ask ourselves: What do we actually want to test?  \n",
    "Three things come to mind:  \n",
    "1. The number of unique false positives\n",
    "2. The memory consumption of the function\n",
    "3. The execution time of the function\n",
    "  \n",
    "### False positives\n",
    "In the following cell we first calculate the number of unique words in the `big.txt` file, then pass it to the spell checking function and output the number of unique misspelled words as well as a slice of the error set."
   ]
  },
  {
   "cell_type": "code",
   "execution_count": 8,
   "metadata": {
    "slideshow": {
     "slide_type": "fragment"
    }
   },
   "outputs": [
    {
     "data": {
      "text/plain": [
       "'Number of individual words in big.txt: 81397'"
      ]
     },
     "execution_count": 8,
     "metadata": {},
     "output_type": "execute_result"
    },
    {
     "data": {
      "text/plain": [
       "'Number of individual misspelled words: 5065'"
      ]
     },
     "execution_count": 8,
     "metadata": {},
     "output_type": "execute_result"
    },
    {
     "data": {
      "text/plain": [
       "['ll',\n",
       " 'cornfields',\n",
       " 'gras',\n",
       " 'ranula',\n",
       " 'pahlen',\n",
       " 'posen',\n",
       " 'godfreys',\n",
       " 'coxa',\n",
       " 'deltoid',\n",
       " 'dorokhov']"
      ]
     },
     "execution_count": 8,
     "metadata": {},
     "output_type": "execute_result"
    }
   ],
   "source": [
    "with open('big.txt') as f:\n",
    "    num_unique_words = len(set(f.read().split()))\n",
    "f\"Number of individual words in big.txt: {num_unique_words}\" \n",
    "errors = spell('big.txt', words_file)\n",
    "f\"Number of individual misspelled words: {len(errors)}\"\n",
    "list(errors)[:10]"
   ]
  },
  {
   "cell_type": "markdown",
   "metadata": {},
   "source": [
    "Around five thousand unique words of the original eigthy thousand unique words are declared as misspelled by our `spell` version. However when we look at some of the words that are declared as wrong we see that they contain a lot of (medical) technical terms like iodides, leucocytes, hyperostosis or names like Shrewsbury and Newtown.  \n",
    "Apparently writing a minimal spelling checker is an easy task, however to use it productively, great care has to be put into the dictionary that is used as the basis. \n",
    "  \n",
    "Since the quality of a spelling checker in terms of false-positives largely depends on the dictionary used, we'll mainly look at the other two metrics, memory consumption and execution time."
   ]
  },
  {
   "cell_type": "markdown",
   "metadata": {
    "slideshow": {
     "slide_type": "slide"
    }
   },
   "source": [
    "### Rough estimate of memory consumption\n",
    "\n"
   ]
  },
  {
   "cell_type": "markdown",
   "metadata": {},
   "source": [
    "Since doing an analytical analysis of the memory consuption of an algorithm is a difficult task when using many library functions, we instead try to assess the memory footprint empirical.  \n",
    "In order to do this we change the first version of spell to handle file like objects that have a `read()` method instead of file names or paths. "
   ]
  },
  {
   "cell_type": "code",
   "execution_count": 9,
   "metadata": {},
   "outputs": [],
   "source": [
    "# this version excpects a file object instead of a file name\n",
    "def spell2(file, word_dict: str) -> Set[str]:\n",
    "    w = set(word_dict.lower().split('\\n'))\n",
    "    return set(re.sub(r\"[^a-z]\", \"\\n\", file.read().lower()).split('\\n')) - w"
   ]
  },
  {
   "cell_type": "markdown",
   "metadata": {},
   "source": [
    "Using the adapted version and the [memory_profiler](https://pypi.org/project/memory_profiler/) package we can get an idea of the memory requierements during the execution of the algorithm.\n",
    "It should be noted however, that the output of the `%memit` magic command at times seems highly erratic. It is very likely to produce different results on different runs."
   ]
  },
  {
   "cell_type": "code",
   "execution_count": 75,
   "metadata": {
    "scrolled": true,
    "slideshow": {
     "slide_type": "-"
    }
   },
   "outputs": [],
   "source": [
    "with open('big.txt') as f:\n",
    "    text = f.read()\n",
    "\n",
    "out_mem = []\n",
    "gc.disable()\n",
    "for i in range(1, 16):\n",
    "    char_count = (len(text) // 15) * i\n",
    "    unique_word_count = len(set(text[:char_count].split()))\n",
    "    text_io = StringIO(text[:char_count])\n",
    "    tmp = %memit -o -q spell2(text_io, words_file)\n",
    "    tmp = (unique_word_count, tmp.mem_usage[0] - tmp.baseline)\n",
    "    text_io.close()\n",
    "    out_mem.append(tmp)\n",
    "gc.enable()"
   ]
  },
  {
   "cell_type": "markdown",
   "metadata": {},
   "source": [
    "Although the actual MB numbers should be taken with a grain of salt, the data suggest that we have a polynomial relationship between the number of unique words in the input and the amount of memory allocated during the execution."
   ]
  },
  {
   "cell_type": "code",
   "execution_count": 98,
   "metadata": {},
   "outputs": [
    {
     "data": {
      "image/png": "[encoded data removed]",
      "text/plain": [
       "<Figure size 800x800 with 1 Axes>"
      ]
     },
     "metadata": {},
     "output_type": "display_data"
    }
   ],
   "source": [
    "uniq_word_counts, memory = list(zip(*out_mem))\n",
    "plt.figure(dpi=100, figsize=(8,8));\n",
    "plt.title(\"Approximate memory consumption of spell function relative to unique word count\")\n",
    "plt.xlabel(\"Amount of unique words in input\")\n",
    "plt.ylabel(\"Approx. amount of memory in MB allocated during execution\")\n",
    "plt.plot(uniq_word_counts, memory);"
   ]
  },
  {
   "cell_type": "markdown",
   "metadata": {
    "slideshow": {
     "slide_type": "fragment"
    }
   },
   "source": [
    "### Benchmark of execution time\n",
    "\n",
    "The last metric and also the most important one is the execution time.  \n",
    "We again use the adapted version of the spell function in order to execute the function on partitons of the original file that are linearly increasing in size."
   ]
  },
  {
   "cell_type": "code",
   "execution_count": 12,
   "metadata": {},
   "outputs": [],
   "source": [
    "def time_spell_func(text, spell_func, num_partitions=15, runs_per_partition=20):\n",
    "    \"\"\" This function time the execution of one of the spell like functions by partitioning the passed text \n",
    "        into num_partitions chunks where each chunk is len(text)//num_partitions bigger than the \n",
    "        previous one (the chunk sizes are are increasing linearly).\n",
    "        This function deliberately sets -n 1 -r 1 for the %timeit magic command to prevent caching issues.\n",
    "    \"\"\"\n",
    "    timing_data = []\n",
    "    gc.disable()\n",
    "    for i in range(1, num_partitions+1):\n",
    "        char_count = (len(text) // num_partitions) * i\n",
    "        run_times = []\n",
    "        for _ in range(runs_per_partition):\n",
    "            text_io = StringIO(text[:char_count])  # provide file like object of partition of orginal file\n",
    "            tmp = %timeit -q -o -n 1 -r 1 spell_func(text_io) # timeit magic command is used to collect timings\n",
    "            run_times.append(tmp.best)\n",
    "            text_io.close()\n",
    "        timing_data.append((char_count, run_times))\n",
    "    gc.enable()\n",
    "    return timing_data"
   ]
  },
  {
   "cell_type": "markdown",
   "metadata": {},
   "source": [
    "Looking at the plotted data, we can clearly see that there is a linear relationship between the execution time and the amount of characters in the input file. "
   ]
  },
  {
   "cell_type": "code",
   "execution_count": 13,
   "metadata": {},
   "outputs": [
    {
     "data": {
      "image/png": "[encoded data removed]",
      "text/plain": [
       "<Figure size 1600x800 with 1 Axes>"
      ]
     },
     "metadata": {},
     "output_type": "display_data"
    }
   ],
   "source": [
    "char_counts, time_spell = list(zip(*time_spell_func(text, partial(spell2, word_dict=words_file))))\n",
    "plt.figure(dpi=100, figsize=(16,8));\n",
    "plt.title(\"Execution time of spell function relative to char count\")\n",
    "plt.xlabel(\"Amount of characters in input, increasing by 1/15th of original size\")\n",
    "plt.ylabel(\"Execution time in seconds\")\n",
    "plt.boxplot(time_spell, labels=char_counts);"
   ]
  },
  {
   "cell_type": "markdown",
   "metadata": {
    "slideshow": {
     "slide_type": "fragment"
    }
   },
   "source": [
    "### That is quite fast for a 1 million words file!"
   ]
  },
  {
   "cell_type": "markdown",
   "metadata": {
    "slideshow": {
     "slide_type": "skip"
    }
   },
   "source": [
    "The speed is actually quite good, compared to the already optimized version of `spell` by Doug McIlroy (written in 1978). That version managed to check a 5,000 word document in **under 30 seconds** (on a VAX-11/750 with 3.125 MHz)[1]. The dramatic decrease in spell checking time (30 seconds for 5,000 words compared to ~0.6-1.0 seconds for nearly 1,000,000 words) can be partly attributed to a tremendous increase in computing power but is also due to the `spell2` version not actually loading the file to be checked from disk, but using a StringIO object that is already loaded into memory and has thus considerably lower access times."
   ]
  },
  {
   "cell_type": "markdown",
   "metadata": {
    "slideshow": {
     "slide_type": "fragment"
    }
   },
   "source": [
    "### But can we do better?"
   ]
  },
  {
   "cell_type": "markdown",
   "metadata": {
    "slideshow": {
     "slide_type": "slide"
    }
   },
   "source": [
    "\n",
    "## Trie data structure <a name=\"trie-data-structure\"/>\n",
    "\n",
    "<div>\n",
    "    <img src=\"Trie.svg\" width=300 height=600>\n",
    "    <a href=\"https://de.wikipedia.org/wiki/Trie#/media/File:Trie.svg\">Trie.svg</a> created by <a href=\"https://de.wikipedia.org/wiki/Benutzer:Nd\">nd</a> (<a href=\"https://creativecommons.org/licenses/by-sa/3.0/\">CC BY-SA 3.0</a>)\n",
    "</div>\n"
   ]
  },
  {
   "cell_type": "markdown",
   "metadata": {
    "slideshow": {
     "slide_type": "notes"
    }
   },
   "source": [
    "We can use a **Trie** or \"prefix-tree\", which is an ordered tree data structure, to efficiently store all the words from our dictionary.  \n",
    "The nodes themselves don't carry information about the key they're storing, instead the key is solely encoded in the position of the node and the information associated with the edges inside it.\n",
    "In theory, this structure allows us to look up words in $O(length(word))$ while saving the strings in a compressed way, but will it actually be better than using standard Python sets?"
   ]
  },
  {
   "cell_type": "markdown",
   "metadata": {
    "slideshow": {
     "slide_type": "subslide"
    }
   },
   "source": [
    "Simple Node object that solely stores information about neighbouring nodes and which letter the the connecting edges represent. Edge information is saved inside Python dictionaries to ensure fast $O(1)$ access."
   ]
  },
  {
   "cell_type": "code",
   "execution_count": 14,
   "metadata": {
    "slideshow": {
     "slide_type": "fragment"
    }
   },
   "outputs": [],
   "source": [
    "class IllegalTrieEdge(Exception):\n",
    "    pass\n",
    "\n",
    "class Node:\n",
    "    def __init__(self):\n",
    "        self.edges = {}\n",
    "        self.end_of_word = False  # note that not only leaves can be valid words, but also intermediate nodes\n",
    "        \n",
    "    def add_edge(self, ch: str):\n",
    "        if len(ch) != 1:\n",
    "            raise IllegalTrieEdge('Edges can only consist of one character')\n",
    "        if ch not in self.edges:\n",
    "            self.edges[ch] = Node()\n",
    "        return self.edges[ch]\n",
    "    \n",
    "    def get_edge(self, ch: str):\n",
    "        return self.edges.get(ch)\n",
    "    \n",
    "    def __contains__(self, edge: str):\n",
    "        return edge in self.edges"
   ]
  },
  {
   "cell_type": "markdown",
   "metadata": {},
   "source": [
    "Basis of the Trie class with helper method `_find_last_prefix_node()` method."
   ]
  },
  {
   "cell_type": "code",
   "execution_count": 15,
   "metadata": {
    "slideshow": {
     "slide_type": "fragment"
    }
   },
   "outputs": [],
   "source": [
    "class Trie:\n",
    "    def __init__(self, words=[]):\n",
    "        self.root = Node()\n",
    "        self._build_trie(words)\n",
    "        \n",
    "        \n",
    "    def _find_last_prefix_node(self, word: str) -> Tuple[str, Node]:\n",
    "        \"\"\" Helper method that, given a word, returns a tuple consisting of the prefix \n",
    "            of the word that is contained in the trie and the Node within the trie representing \n",
    "            the end of the prefix. Should the word not be saved in the trie, an empty string\n",
    "            and the root is returned. If the trie contains the full word then prefix == word.\n",
    "        \"\"\"\n",
    "        v = self.root\n",
    "        prefix = ''\n",
    "        while len(word) > 0 and word[0] in v:\n",
    "            prefix += word[0]\n",
    "            v = v.get_edge(word[0])\n",
    "            word = word[1:]\n",
    "        return prefix, v"
   ]
  },
  {
   "cell_type": "markdown",
   "metadata": {},
   "source": [
    "The `_find_last_prefix_node()` method can be used to easily implement the addition of words as well as the `__contains__()` [magic method](https://rszalski.github.io/magicmethods/)."
   ]
  },
  {
   "cell_type": "code",
   "execution_count": 16,
   "metadata": {
    "slideshow": {
     "slide_type": "subslide"
    }
   },
   "outputs": [],
   "source": [
    "@add_to_class(Trie)\n",
    "def _add_word(self, word: str):\n",
    "    \"\"\" Helper method that adds a single word to the trie.\n",
    "    \"\"\"\n",
    "    prefix, node = self._find_last_prefix_node(word)\n",
    "    if prefix == word:\n",
    "        node.end_of_word = True\n",
    "    word = word[len(prefix):]\n",
    "    while len(word) > 0:\n",
    "        node = node.add_edge(word[0])\n",
    "        word = word[1:]\n",
    "    node.end_of_word = True"
   ]
  },
  {
   "cell_type": "markdown",
   "metadata": {},
   "source": [
    "Build up a trie by repeatedly calling `_add_word()` with the contents of the passed Iterable `words`."
   ]
  },
  {
   "cell_type": "code",
   "execution_count": 17,
   "metadata": {
    "slideshow": {
     "slide_type": "subslide"
    }
   },
   "outputs": [],
   "source": [
    "@add_to_class(Trie)\n",
    "def _build_trie(self, words: Iterable[str]):\n",
    "    for word in words:\n",
    "        self._add_word(word)"
   ]
  },
  {
   "cell_type": "markdown",
   "metadata": {},
   "source": [
    "Implementing the `__contains_()` magic method allows us to use the `in` operator to test for membership."
   ]
  },
  {
   "cell_type": "code",
   "execution_count": 18,
   "metadata": {
    "slideshow": {
     "slide_type": "subslide"
    }
   },
   "outputs": [],
   "source": [
    "@add_to_class(Trie)\n",
    "def __contains__(self, word: str) -> bool:\n",
    "    prefix, node = self._find_last_prefix_node(word)\n",
    "    return prefix == word and node.end_of_word"
   ]
  },
  {
   "cell_type": "markdown",
   "metadata": {
    "slideshow": {
     "slide_type": "slide"
    }
   },
   "source": [
    "## So lets test it, shall we?  <a name=\"testing-trie\"/>\n",
    "As the dictionary to store inside the trie we'll again use the standard english words file on unix systems, splitted at newlines."
   ]
  },
  {
   "cell_type": "code",
   "execution_count": 19,
   "metadata": {
    "scrolled": true,
    "slideshow": {
     "slide_type": "fragment"
    }
   },
   "outputs": [],
   "source": [
    "with open('american-english') as w:\n",
    "    words_file = w.read()  \n",
    "    words = [word for word in words_file.split('\\n') if len(word) > 0]"
   ]
  },
  {
   "cell_type": "markdown",
   "metadata": {
    "slideshow": {
     "slide_type": "slide"
    }
   },
   "source": [
    "### Quick test of our implementation\n",
    "In order to quickly test our implementation we can use a list comprehension that should output all the words from our dictionary file for which the Trie membership test returns false. To verify that the `__contains__()` method doesn't just always output `True` we also test for membership of two words that are **not** in the dictionary."
   ]
  },
  {
   "cell_type": "code",
   "execution_count": 20,
   "metadata": {
    "slideshow": {
     "slide_type": "-"
    }
   },
   "outputs": [],
   "source": [
    "trie = Trie(words)"
   ]
  },
  {
   "cell_type": "code",
   "execution_count": 21,
   "metadata": {
    "slideshow": {
     "slide_type": "fragment"
    }
   },
   "outputs": [
    {
     "data": {
      "text/plain": [
       "[]"
      ]
     },
     "execution_count": 21,
     "metadata": {},
     "output_type": "execute_result"
    },
    {
     "data": {
      "text/plain": [
       "False"
      ]
     },
     "execution_count": 21,
     "metadata": {},
     "output_type": "execute_result"
    },
    {
     "data": {
      "text/plain": [
       "False"
      ]
     },
     "execution_count": 21,
     "metadata": {},
     "output_type": "execute_result"
    }
   ],
   "source": [
    "[word for word in words if word not in trie]\n",
    "'adasedadwa'  in trie\n",
    "'Hallo' in trie"
   ]
  },
  {
   "cell_type": "markdown",
   "metadata": {
    "slideshow": {
     "slide_type": "slide"
    }
   },
   "source": [
    "### Memory decrease by using a prefix tree (trie)....\n",
    "Did we accomplish a reduction of memory used by the dictionary by utilizing this, in theory efficient datastructure?  \n",
    "In order to test this we can use the [pympler](https://pypi.org/project/Pympler/) python package that is able to recursively estimate the size of Python objects."
   ]
  },
  {
   "cell_type": "code",
   "execution_count": 22,
   "metadata": {
    "slideshow": {
     "slide_type": "fragment"
    }
   },
   "outputs": [
    {
     "data": {
      "text/plain": [
       "'Size read file: 938664 B; size word list: 6884128 B; size of trie: 93362984 B'"
      ]
     },
     "execution_count": 22,
     "metadata": {},
     "output_type": "execute_result"
    },
    {
     "data": {
      "text/plain": [
       "'Increase in size by factor 99.46368881729778'"
      ]
     },
     "execution_count": 22,
     "metadata": {},
     "output_type": "execute_result"
    }
   ],
   "source": [
    "size_words_file = asizeof(words_file)\n",
    "size_words = asizeof(words)\n",
    "size_trie = asizeof(trie)\n",
    "f\"Size read file: {size_words_file} B; size word list: {size_words} B; size of trie: {size_trie} B\"\n",
    "f\"Increase in size by factor {size_trie/size_words_file}\""
   ]
  },
  {
   "cell_type": "markdown",
   "metadata": {
    "slideshow": {
     "slide_type": "notes"
    }
   },
   "source": [
    "### An increase by a factor of ~ 100 ?! \n",
    "\n",
    "Python is a highly dynamic language where **everything** is an object, even simple things like an integer or character. This adds an immense overhead, which results in this dramatic increase in size.  \n",
    "So saving space by using a prefix tree implemented in native Python is not possible, due to the limitations of the language.  "
   ]
  },
  {
   "cell_type": "markdown",
   "metadata": {
    "slideshow": {
     "slide_type": "slide"
    }
   },
   "source": [
    "### But maybe it is at least fast?  \n",
    "\n",
    "We adapt the `spell` function from earlier to calculate $A \\backslash B$ where $A = \\{w | w$ in file$\\}$ and \n",
    "$B = \\{w | w$ in dictionary$\\}$ and $B$ is a Python object implementing the `__contains__()` method."
   ]
  },
  {
   "cell_type": "code",
   "execution_count": 23,
   "metadata": {
    "slideshow": {
     "slide_type": "slide"
    }
   },
   "outputs": [],
   "source": [
    "def spell_G(file, word_dict) -> Set[str]:\n",
    "    return {\n",
    "        word for word in\n",
    "        # read the file to check -> convert to lower -> split at newlines \n",
    "        # -> remove punctuation -> remove double occurences (conv. to set)\n",
    "        set(re.sub(r\"[^a-z']\", \"\\n\", file.read().lower()).split('\\n'))\n",
    "        if word not in word_dict\n",
    "    }"
   ]
  },
  {
   "cell_type": "code",
   "execution_count": 24,
   "metadata": {},
   "outputs": [],
   "source": [
    "char_counts, time_spell_trie = list(zip(*time_spell_func(text, partial(spell_G, word_dict=trie))))"
   ]
  },
  {
   "cell_type": "code",
   "execution_count": 25,
   "metadata": {},
   "outputs": [
    {
     "data": {
      "image/png": "[encoded data removed]",
      "text/plain": [
       "<Figure size 1600x800 with 1 Axes>"
      ]
     },
     "metadata": {},
     "output_type": "display_data"
    }
   ],
   "source": [
    "plt.figure(dpi=100, figsize=(16,8));\n",
    "plt.title(\"Execution time of spell function relative to char count\")\n",
    "plt.xlabel(\"Amount of characters in input\")\n",
    "plt.ylabel(\"Execution time in seconds\")\n",
    "plt.boxplot(time_spell_trie, labels=char_counts);"
   ]
  },
  {
   "cell_type": "markdown",
   "metadata": {
    "slideshow": {
     "slide_type": "fragment"
    }
   },
   "source": [
    "#### Quite underwhelming\n",
    "It seems that it's not only not possible to save memory by implementing a trie datastructure in Python but that there is also no reduction of execution time.\n",
    "\n",
    "Nevertheless maybe we can finally gain something by further utilizing the vast Python ecosysytem and instead of using a pure Python implementation of a trie, we use a wrapper for a c++ implementation.  \n",
    "The package of choice is [marisa-trie](https://pypi.org/project/marisa-trie/)"
   ]
  },
  {
   "cell_type": "code",
   "execution_count": 26,
   "metadata": {},
   "outputs": [],
   "source": [
    "trie_efficient = marisa_trie.Trie(words)"
   ]
  },
  {
   "cell_type": "code",
   "execution_count": 27,
   "metadata": {
    "slideshow": {
     "slide_type": "-"
    }
   },
   "outputs": [],
   "source": [
    "char_counts, time_spell_marisa = list(zip(*time_spell_func(text, partial(spell_G, word_dict=trie_efficient))))"
   ]
  },
  {
   "cell_type": "code",
   "execution_count": 28,
   "metadata": {
    "scrolled": false,
    "slideshow": {
     "slide_type": "-"
    }
   },
   "outputs": [
    {
     "data": {
      "image/png": "[encoded data removed]",
      "text/plain": [
       "<Figure size 1600x800 with 1 Axes>"
      ]
     },
     "metadata": {},
     "output_type": "display_data"
    }
   ],
   "source": [
    "plt.figure(dpi=100, figsize=(16,8));\n",
    "plt.title(\"Execution time of spell function relative to char count\")\n",
    "plt.xlabel(\"Amount of characters in input\")\n",
    "plt.ylabel(\"Execution time in seconds\")\n",
    "plt.boxplot(time_spell_marisa, labels=char_counts);"
   ]
  },
  {
   "cell_type": "code",
   "execution_count": 29,
   "metadata": {},
   "outputs": [
    {
     "data": {
      "image/png": "[encoded data removed]",
      "text/plain": [
       "<Figure size 660x440 with 1 Axes>"
      ]
     },
     "metadata": {},
     "output_type": "display_data"
    }
   ],
   "source": [
    "data = [time_spell[-1], time_spell_trie[-1], time_spell_marisa[-1]]\n",
    "plt.figure(dpi=110, figsize=(6,4));\n",
    "plt.boxplot(data, labels=['spell2', 'spell_G (trie)', 'spell_G (marisa_trie)']);"
   ]
  },
  {
   "cell_type": "markdown",
   "metadata": {},
   "source": [
    "## Spell checking: Conclusion <a name=\"checking-conclusion\"/>\n",
    "\n",
    "Implementing a usable spelling checker in Python only takes a couple of minutes and a few lines of code. The quality of the spelling checker in terms of false positives is mainly dependant on the dictionary that is used as the basis. Trying to further increase the performance and memory efficiency by implementing a trie in pure Python code proves difficult, due to the nature of Python, a highly dynamic language without static typing.  \n",
    "Even using a c++ implementation of a trie, we were only able to slightly reduce the runtime of the spell checking."
   ]
  },
  {
   "cell_type": "markdown",
   "metadata": {
    "slideshow": {
     "slide_type": "slide"
    }
   },
   "source": [
    "<br/><br/><br/>\n",
    "<hr/>\n",
    "<br/><br/><br/>\n",
    "# Spelling correction <a name=\"spell-correcting\"/>\n",
    "Identifying words that are not part of a dictionary as part of spell checking is very useful, but surely there must be a way to also give sensible suggestions as to what actual word might have been meant by the misspelling.  \n",
    "Achieving spelling correction that is not only performant (again in pure Python) by using clever algorithms, but also actually makes helpful suggestions is the topic of this second part.\n",
    "  \n",
    "In order to achieve this goal we need two things:  \n",
    "1. A measure of how similar two words are\n",
    "2. A language model in order to estimate the probability of a word\n",
    "\n",
    "## *Distance* of strings <a name=\"string-distance\"/>\n",
    "To determine how similar words are, we have a look at two string distances (metrics) and their implementations: Levenshtein distance and an extension of the first, the Damerau-Levenshtein distance.\n",
    "### Levenshtein distance (edit distance)\n",
    "\n",
    "The Levenshtein distance is defined as the minimal number of single-character edits (insertion, deletion, substitution) needed to change word $a$ into word $b$.\n",
    "\n",
    "Mathematically it can be expressed like this:\n",
    "\n",
    "\\begin{equation}\n",
    "\\qquad\\operatorname{lev}_{a,b}(i,j) = \\begin{cases}\n",
    "  \\max(i,j) & \\text{ if} \\min(i,j)=0, \\\\\n",
    "  \\min \\begin{cases}\n",
    "          \\operatorname{lev}_{a,b}(i-1,j) + 1 \\\\\n",
    "          \\operatorname{lev}_{a,b}(i,j-1) + 1 \\\\\n",
    "          \\operatorname{lev}_{a,b}(i-1,j-1) + 1_{(a_i \\neq b_j)}\n",
    "       \\end{cases} & \\text{ otherwise.}\n",
    "\\end{cases}\n",
    "\\end{equation}  \n",
    "\n",
    "where:  \n",
    "\n",
    "- $1_{(a_i \\neq b_j)}$ is an indicator function equal to 0 when $a_i = b_j$ and equal to 1 otherwise  \n",
    "- $\\operatorname{lev}_{a,b}(i,j)$ is the distance of the first $i$ characters of $a$ and the first $j$ characters of $b$"
   ]
  },
  {
   "cell_type": "markdown",
   "metadata": {
    "slideshow": {
     "slide_type": "fragment"
    }
   },
   "source": [
    "#### Example:\n",
    "$\\qquad\\operatorname{lev}_{\\text{kitten},\\text{sitting}}(6,7) = 3$  \n",
    "$\\qquad$**k**itten $\\rightarrow$ *s*itt**e**n $\\rightarrow$ sitt*i*n $\\rightarrow$ sittin*g* "
   ]
  },
  {
   "cell_type": "markdown",
   "metadata": {
    "slideshow": {
     "slide_type": "slide"
    }
   },
   "source": [
    "### Recursive implementation with exponential runtime\n",
    "\n",
    "Taking the mathematical definition we can easily implement the distance function as a recursive Python function."
   ]
  },
  {
   "cell_type": "code",
   "execution_count": 30,
   "metadata": {
    "slideshow": {
     "slide_type": "-"
    }
   },
   "outputs": [],
   "source": [
    "def levenshtein_distance(s: str, t: str):\n",
    "    if min(len(s), len(t)) == 0:\n",
    "        return max(len(s),len(t))\n",
    "    \n",
    "    cost = 0 if s[-1] == t[-1] else 1  # corresponds to the indicator function\n",
    "    \n",
    "    return min(levenshtein_distance(s[:-1], t) +1,\n",
    "               levenshtein_distance(s, t[:-1]) +1,\n",
    "               levenshtein_distance(s[:-1], t[:-1]) + cost\n",
    "              )"
   ]
  },
  {
   "cell_type": "markdown",
   "metadata": {},
   "source": [
    "In order to test different implementations of distance functions we define a function that takes a string, a list of words, a callable distance function and a maximal distance.  \n",
    "The function simply returns all words within in the passed list that are within the specified maximal distance from the passed string."
   ]
  },
  {
   "cell_type": "code",
   "execution_count": 31,
   "metadata": {
    "slideshow": {
     "slide_type": "slide"
    }
   },
   "outputs": [],
   "source": [
    "def close_strings(s: str, words: Iterable[str],\n",
    "                  distace_func: Callable[[str, str], int],\n",
    "                  max_distance: int = 2):\n",
    "    return [word for word in words if 0 <= distace_func(s, word) <= max_distance]"
   ]
  },
  {
   "cell_type": "markdown",
   "metadata": {},
   "source": [
    "Running the function with the word 'hel' and a max edit distance of 2 returns quiete a big list of potential corrections, the first 10 shown below. "
   ]
  },
  {
   "cell_type": "code",
   "execution_count": 32,
   "metadata": {
    "slideshow": {
     "slide_type": "fragment"
    }
   },
   "outputs": [
    {
     "data": {
      "text/plain": [
       "['Abel', 'Al', 'Be', 'Bela', 'Bell', 'Ben', 'Cal', 'Celt', 'Che', 'Chen']"
      ]
     },
     "execution_count": 32,
     "metadata": {},
     "output_type": "execute_result"
    }
   ],
   "source": [
    "close_strings('hel', words, levenshtein_distance, 2)[:10]"
   ]
  },
  {
   "cell_type": "markdown",
   "metadata": {},
   "source": [
    "Looking at the recursive implementation of the levenshtein distance and the fact that we iterate over a whole dictionary within `close_strings()` it becomes evident, that this approach will likely not be performant enough to be used as an actual spelling suggestor.  \n",
    "A quick (or actually not so quick) call to `%timeit` confirms this."
   ]
  },
  {
   "cell_type": "code",
   "execution_count": 78,
   "metadata": {
    "scrolled": true,
    "slideshow": {
     "slide_type": "fragment"
    }
   },
   "outputs": [
    {
     "data": {
      "text/plain": [
       "'Best: 172.3762650199933 s'"
      ]
     },
     "execution_count": 78,
     "metadata": {},
     "output_type": "execute_result"
    }
   ],
   "source": [
    "time_lev = %timeit -q -o -r 3 -n 1 close_strings('hel', words, levenshtein_distance, 2)\n",
    "f\"Best: {time_lev.best} s\""
   ]
  },
  {
   "cell_type": "markdown",
   "metadata": {
    "slideshow": {
     "slide_type": "slide"
    }
   },
   "source": [
    "### Utilize dynamic programming  \n",
    "\n",
    "By using a dynamic programming approach we can reduce the complexity of the original recursive function (exponential to the power of 3) to just $O(nm)$.  \n",
    "This is achieved by storing the distances of prefixes of the input words in a 2-dimensional matrix instead of recalculating them."
   ]
  },
  {
   "cell_type": "code",
   "execution_count": 79,
   "metadata": {
    "slideshow": {
     "slide_type": "-"
    }
   },
   "outputs": [],
   "source": [
    "def levenshtein_dp(s: str, t: str):\n",
    "    n = len(s) + 1\n",
    "    m = len(t) + 1\n",
    "    d = np.zeros((n, m))\n",
    "    d[:, 0] = range(n)\n",
    "    d[0, :] = range(m)\n",
    "    \n",
    "    for j in range(1, m):\n",
    "        for i in range(1, n):\n",
    "            cost = 0 if s[i-1] == t[j-1] else 1\n",
    "            d[i, j] = min(d[i-1, j] + 1,\n",
    "                          d[i, j-1] + 1,\n",
    "                          d[i-1, j-1] + cost\n",
    "                         )\n",
    "    return d[n-1,m-1]"
   ]
  },
  {
   "cell_type": "markdown",
   "metadata": {},
   "source": [
    "Running the `%timeit` command on the improved version reveals the enourmous difference between a quadratic algorithm and an exponential one."
   ]
  },
  {
   "cell_type": "code",
   "execution_count": 80,
   "metadata": {
    "scrolled": true,
    "slideshow": {
     "slide_type": "fragment"
    }
   },
   "outputs": [
    {
     "data": {
      "text/plain": [
       "'Best: 9.000688288506353 s'"
      ]
     },
     "execution_count": 80,
     "metadata": {},
     "output_type": "execute_result"
    }
   ],
   "source": [
    "time_lev_dp = %timeit -q -o -r 3 -n 2 close_strings('hallo', words, levenshtein_dp, 2)\n",
    "f\"Best: {time_lev_dp.best} s\""
   ]
  },
  {
   "cell_type": "markdown",
   "metadata": {
    "scrolled": false,
    "slideshow": {
     "slide_type": "subslide"
    }
   },
   "source": [
    "### Damerau-Levenshtein distance\n",
    "\n",
    "Before we begin to consider the language model and the implementation of a **fast** spelling corrector we implement another version of the levenshtein distance called the *Damerau-Levenshtein distance*. The only difference compared to the usual one is, that it also counts transpositions between succesive elements as a single character edit.  \n",
    "This is especially useful since swapping two successive characters within a word is a common mistake made by humans typing on keyboards.\n",
    "\n",
    "\\begin{equation}\n",
    "d_{a,b}(i,j) = \\begin{cases}\n",
    "  \\max(i,j) & \\text{ if} \\min(i,j)=0, \\\\\n",
    "\\min \\begin{cases}\n",
    "          d_{a,b}(i-1,j) + 1 \\\\\n",
    "          d_{a,b}(i,j-1) + 1 \\\\\n",
    "          d_{a,b}(i-1,j-1) + 1_{(a_i \\neq b_j)} \\\\\n",
    "          d_{a,b}(i-2,j-2) + 1\n",
    "       \\end{cases} & \\text{ if } i,j > 1 \\text{ and } a_i = b_{j-1} \\text{ and } a_{i-1} = b_j \\\\\n",
    "  \\min \\begin{cases}\n",
    "          d_{a,b}(i-1,j) + 1 \\\\\n",
    "          d_{a,b}(i,j-1) + 1 \\\\\n",
    "          d_{a,b}(i-1,j-1) + 1_{(a_i \\neq b_j)}\n",
    "       \\end{cases} & \\text{ otherwise.}\n",
    "\\end{cases}\n",
    "\\end{equation}"
   ]
  },
  {
   "cell_type": "code",
   "execution_count": 81,
   "metadata": {
    "slideshow": {
     "slide_type": "subslide"
    }
   },
   "outputs": [],
   "source": [
    "def damerau_levenshtein(s: str, t: str):\n",
    "    n = len(s) + 1\n",
    "    m = len(t) + 1\n",
    "    d = np.zeros((n, m))\n",
    "    d[:, 0] = range(n)\n",
    "    d[0, :] = range(m)\n",
    "    \n",
    "    for j in range(1, m):\n",
    "        for i in range(1, n):\n",
    "            cost = 0 if s[i-1] == t[j-1] else 1\n",
    "            d[i, j] = min(d[i-1, j] + 1,\n",
    "                          d[i, j-1] + 1,\n",
    "                          d[i-1, j-1] + cost\n",
    "                         )\n",
    "            if i > 1 and j > 1 and s[i-1] == t[j-2] and s[i-2] == t[j-1]:\n",
    "                d[i,j] = min(d[i,j], d[i-2, j-2] + cost)\n",
    "    return d[n-1,m-1]"
   ]
  },
  {
   "cell_type": "markdown",
   "metadata": {
    "slideshow": {
     "slide_type": "slide"
    }
   },
   "source": [
    "## Frequency of strings and *fast* corrector <a name=\"freq-fast-corrector\"/>"
   ]
  },
  {
   "cell_type": "markdown",
   "metadata": {
    "slideshow": {
     "slide_type": "slide"
    }
   },
   "source": [
    "In order to write an actually useful corrector we need a language model which gives us an estimate of the probability of a word within texts of that language.  \n",
    "Take for example the word `hellp`, the words `help, hello, hell` are all within an edit distance of one. However the word `help` occurs much more frequent in english text than the other two und thus, we treat it as the most likely correction (approach inspired by Peter Norvig [4]). This is obviously a very simplified model of language since we completely ignore the context that the word appears in. Nonetheless even this simple model can be used to achieve useful corrections as we see later. \n",
    "  \n",
    "To estimate the probabilities of words in the english language we use the word frequency file by wolfgarbe: [GitHub SymSpell](https://github.com/wolfgarbe/SymSpell/blob/master/SymSpell/frequency_dictionary_en_82_765.txt) [D2]"
   ]
  },
  {
   "cell_type": "code",
   "execution_count": 82,
   "metadata": {},
   "outputs": [
    {
     "name": "stdout",
     "output_type": "stream",
     "text": [
      "word count: 82765 frequency_dictionary_en_82_765.txt \n",
      "\n",
      "mrs 12206596\n",
      "restoration 12202668\n",
      "convenience 12201623\n",
      "returning 12197026\n",
      "ralph 12190683\n",
      "opposition 12183104\n",
      "container 12181942\n",
      "defendant 12169689\n",
      "warner 12165874\n",
      "confirmation 12157725\n"
     ]
    }
   ],
   "source": [
    "!echo word count: $(wc -l frequency_dictionary_en_82_765.txt) '\\n'\n",
    "!head -n 5000 frequency_dictionary_en_82_765.txt | tail"
   ]
  },
  {
   "cell_type": "markdown",
   "metadata": {},
   "source": [
    "We read in the frequency file which consists of lines containig an english word and an absolute number of occurences collected from various texts."
   ]
  },
  {
   "cell_type": "code",
   "execution_count": 83,
   "metadata": {
    "slideshow": {
     "slide_type": "fragment"
    }
   },
   "outputs": [],
   "source": [
    "with open('frequency_dictionary_en_82_765.txt') as freq:\n",
    "    freq = {word: int(cnt) for word, cnt in [line.split() for line in freq.read().split('\\n') if line]}"
   ]
  },
  {
   "cell_type": "markdown",
   "metadata": {},
   "source": [
    "### Distribution of ten most and least common words"
   ]
  },
  {
   "cell_type": "code",
   "execution_count": 84,
   "metadata": {
    "slideshow": {
     "slide_type": "skip"
    }
   },
   "outputs": [
    {
     "data": {
      "image/png": "[encoded data removed]",
      "text/plain": [
       "<Figure size 800x400 with 2 Axes>"
      ]
     },
     "metadata": {},
     "output_type": "display_data"
    }
   ],
   "source": [
    "sorted_freq_tuples = sorted([(w, c) for w,c in freq.items()], key=lambda t: -t[1])\n",
    "\n",
    "words, counts = zip(*sorted_freq_tuples)\n",
    "\n",
    "plt.figure(figsize=(8,4), dpi=100)\n",
    "plt.subplot(121)\n",
    "plt.bar(words[:10], counts[:10])\n",
    "plt.xticks(rotation='vertical')\n",
    "plt.ylabel('word frequency')\n",
    "plt.subplot(122)\n",
    "plt.bar(words[-10:], counts[-10:])\n",
    "plt.xticks(rotation='vertical')\n",
    "plt.ylabel('word frequency')\n",
    "plt.tight_layout()\n",
    "plt.savefig('word-freqs.svg');"
   ]
  },
  {
   "cell_type": "markdown",
   "metadata": {
    "slideshow": {
     "slide_type": "slide"
    }
   },
   "source": [
    "## Symmetric delete spelling correction ([SymSpell](https://towardsdatascience.com/symspell-vs-bk-tree-100x-faster-fuzzy-string-search-spell-checking-c4f10d80a078)) <a name=\"sym-spell\"/>\n",
    "\n",
    "So now have everything needed for a corrector don't we?  \n",
    "As we've seen earlier, although the dynamic programming version of the edit distance implementation is orders of magnitudes faster than the recursive implementation, it still takes several seconds to provide suggestions for a word since we're computing the distance for the word in question to every other word within the dictionary. This is obviously too inefficient and takes too long to be usable.  \n",
    "  \n",
    "Luckily there is a solution to this problem, an algorithm called SymSpell which was developed [Wolf Garbe](https://medium.com/@wolfgarbe), founder of SeekStorm (Search-as-a-Service), FAROO (P2P Search).\n",
    "\n",
    "### Idea: Reduce candidates to calc. edit distance for\n",
    "- pre-calculate possible strings by deleting at most n chars\n",
    "- store deletes in dictionary with candidate correction terms\n",
    "- calc. deletes for search term and look them up in dictionary\n",
    "- only calc. edit distance for terms stored as candidate corrections\n",
    "- sort by edit dist. and frequency\n",
    "\n",
    "Obviously this approach does trade memory for performance, but as the benchmarks show, it's worth the tradeoff."
   ]
  },
  {
   "cell_type": "code",
   "execution_count": 85,
   "metadata": {
    "slideshow": {
     "slide_type": "subslide"
    }
   },
   "outputs": [],
   "source": [
    "def splits(s: str) -> List[str]:\n",
    "    \"\"\" Helper function that given a string will return a list of tuples of possible splits of this word.\n",
    "        E.g. splits('abc') -> [('', 'abc'), ('a', 'bc'), ('ab', 'c'), ('abc', '')]\n",
    "    \"\"\"\n",
    "    return [(s[:i], s[i:]) for i in range(len(s)+1)]\n",
    "\n",
    "def possible_deletions(s: str, max_edit_dist: int = 1) -> Set[str]:\n",
    "    \"\"\" Helper function that, given a string and a maximal edit dist. returns a set of strings where at most\n",
    "        max_edit_dist many characters have been deleted from the original string.\n",
    "        E.g. possible_deletions('abc') -> {'bc', 'ac', 'ab'}\n",
    "    \"\"\"\n",
    "    deletions = {s}\n",
    "    for i in range(max_edit_dist):\n",
    "        i_deletions = set()\n",
    "        for word in deletions:\n",
    "            split_words = splits(word)\n",
    "            i_deletions |= {a+b[1:] for a,b in split_words}\n",
    "        deletions |= i_deletions\n",
    "    return deletions"
   ]
  },
  {
   "cell_type": "code",
   "execution_count": 86,
   "metadata": {
    "slideshow": {
     "slide_type": "subslide"
    }
   },
   "outputs": [],
   "source": [
    "class SpellingCorrector:\n",
    "    \"\"\" This is the class that will offer the correction suggestion functionality and is responsible\n",
    "        for preprocessing the word frequency input data and storing the resulting dictionary of partially\n",
    "        deleted words and their possible corrections.\n",
    "    \"\"\"\n",
    "    def __init__(self, filename, max_edit_dist=2):\n",
    "        self._dictionary = {}\n",
    "        self.max_edit_dist = max_edit_dist\n",
    "        self._init_dict_with_freq_file(filename)\n",
    "        \n",
    "    \n",
    "    def _create_dict_entry(self, word, cnt):\n",
    "        \"\"\" Helper method that takes a word and it's associated count. The word and it's corresponding frequency\n",
    "            is added to the dictionary. Then all possible deletions of the original word are generated. \n",
    "            Every partially deleted word is looked up in the internal dictionary.\n",
    "            If it's already present, we add the original word as a possible correction to the partial word.\n",
    "            If not, we create e new dictionary entry with the original word as possible correction and \n",
    "            a frequency of 0.\n",
    "        \"\"\"\n",
    "        self._dictionary[word] = ([], int(cnt))                # initialize with no corrections and freq.\n",
    "        deletes = possible_deletions(word, self.max_edit_dist) # generate all possible deletes within max_edit_dist \n",
    "        for part_word in deletes:\n",
    "            if part_word in self._dictionary:\n",
    "                self._dictionary[part_word][0].append(word)    # append orig. word as possible correction\n",
    "            else:\n",
    "                self._dictionary[part_word] = ([word], 0)      # create new entry with word as correction and freq\n",
    "                                                               # set to 0"
   ]
  },
  {
   "cell_type": "code",
   "execution_count": 87,
   "metadata": {
    "slideshow": {
     "slide_type": "subslide"
    }
   },
   "outputs": [],
   "source": [
    "@add_to_class(SpellingCorrector)\n",
    "def _init_dict_with_freq_file(self, filename):\n",
    "    \"\"\" Helper method that reads in frequency file and \n",
    "        calls `_create_dict_entry()` on all word, freq. tuples\n",
    "    \"\"\"\n",
    "    with open(filename) as f:\n",
    "        word_cnt_tuples = [line.split() for line in f.read().split('\\n') if line]\n",
    "        for word, cnt in word_cnt_tuples:\n",
    "            self._create_dict_entry(word, cnt)two search companies"
   ]
  },
  {
   "cell_type": "code",
   "execution_count": 88,
   "metadata": {
    "slideshow": {
     "slide_type": "subslide"
    }
   },
   "outputs": [],
   "source": [
    "class InvalidMaxEditDist(Exception):\n",
    "    pass\n",
    "\n",
    "@add_to_class(SpellingCorrector)\n",
    "def _suggestion_candidates(self, word, max_edit_dist=2,\n",
    "                           edit_dist_func=damerau_levenshtein,\n",
    "                           verbose=False\n",
    "                          ):\n",
    "    \"\"\" Function that, given a word, a maximal edit distance < 0 and <= than the max_edit_dist specified at\n",
    "        instantiation and a distance function, returns a dictionary containing all possible corrections of the \n",
    "        given word as keys and tuples of their distance to the passed word and their absolute frequency.\n",
    "    \"\"\"\n",
    "    if not (0 < max_edit_dist <= self.max_edit_dist):\n",
    "        raise InvalidMaxEditDist(f\"max_edit_dist must be in range (0,{self.max_edit_dist}]\")\n",
    "    deletes = possible_deletions(word, max_edit_dist)\n",
    "    # dictionary containing corrections as keys and their corresponding distance \n",
    "    # to the passed word and freq as value \n",
    "    suggestion_dict = {}                  \n",
    "    # set where each word is stored for which the dist. has already been calculated\n",
    "    tried_corrections = set()\n",
    "    dist_func_counter = 0\n",
    "    for part_word in deletes:\n",
    "        # get all possible corrections that were precomputed during initialization\n",
    "        corrections = self._dictionary.get(part_word, ([], 0))[0]    \n",
    "        for correction in corrections:\n",
    "            # avoid unnecessary computations of distance func \n",
    "            if correction not in tried_corrections:\n",
    "                tried_corrections.add(correction)\n",
    "                dist = edit_dist_func(correction, word)\n",
    "                dist_func_counter += 1\n",
    "                if  dist <= max_edit_dist:\n",
    "                    # _dictionary[correction] tuple contains freq of word at second tuple position\n",
    "                    suggestion_dict[correction] = (dist, self._dictionary[correction][1])\n",
    "    if verbose:\n",
    "        print(f\"Called {edit_dist_func.__name__}() {dist_func_counter} many times.\")\n",
    "    return suggestion_dict\n"
   ]
  },
  {
   "cell_type": "code",
   "execution_count": 89,
   "metadata": {
    "slideshow": {
     "slide_type": "subslide"
    }
   },
   "outputs": [],
   "source": [
    "@add_to_class(SpellingCorrector)\n",
    "def suggestions(self, word: str, verbose=False, **kwargs):\n",
    "    \"\"\" Function that given a word, generates possible corrections and orders them first by their distance\n",
    "        to the original string and second by their frequency.\n",
    "        If verbose is True the list of words with their corresponding distances and frequencies is returned,\n",
    "        otherwise just the sorted list.\n",
    "    \"\"\"\n",
    "    word = word.lower()\n",
    "    candidates = self._suggestion_candidates(word, verbose=verbose, **kwargs)\n",
    "    # sort candidates first by their dsitance to words, then by their frequency\n",
    "    sorted_candidates = sorted(candidates.items(), key=lambda tup: (tup[1][0], -tup[1][1]))\n",
    "    if verbose:\n",
    "        return sorted_candidates\n",
    "    return [word for word, _ in sorted_candidates]"
   ]
  },
  {
   "cell_type": "code",
   "execution_count": 90,
   "metadata": {
    "slideshow": {
     "slide_type": "slide"
    }
   },
   "outputs": [],
   "source": [
    "corr = SpellingCorrector('frequency_dictionary_en_82_765.txt', max_edit_dist=2)"
   ]
  },
  {
   "cell_type": "markdown",
   "metadata": {},
   "source": [
    "### Small slice of the underlying dictionary structure  \n",
    "  \n",
    "At the heart of the algorithm is the precomputing step where we take all words from our dictionary, delete at most `max_edit_dist` characters from them and then save the original string as a possible correction of the partially deleted one.  \n",
    "Following is a small slice of the dictionary that is the reusult of this precomputing step.\n",
    "As we can also see, there is a lot of room for improvement memory efficiency wise (we save possible corrections even for already correctly spelled words), but since improving memory efficiency of datastructures in Python is a lost cause, we don't concern ourselves with this."
   ]
  },
  {
   "cell_type": "code",
   "execution_count": 91,
   "metadata": {
    "slideshow": {
     "slide_type": "fragment"
    }
   },
   "outputs": [
    {
     "data": {
      "text/plain": [
       "[('the', (['the', 'other', 'they', '...'], 23135851162)),\n",
       " ('te', (['the', 'time', 'they', '...'], 0)),\n",
       " ('e', (['the', 'be', 'are', '...'], 0)),\n",
       " ('t', (['the', 'to', 'it', '...'], 0)),\n",
       " ('h', (['the', 'has', 'he', '...'], 0))]"
      ]
     },
     "execution_count": 91,
     "metadata": {},
     "output_type": "execute_result"
    }
   ],
   "source": [
    "[(k, (data[0][:3]+['...'], data[1])) for k, data in list(corr._dictionary.items())[:5]]"
   ]
  },
  {
   "cell_type": "markdown",
   "metadata": {
    "slideshow": {
     "slide_type": "slide"
    }
   },
   "source": [
    "## So lets benchmark it! <a name=\"testing-sym-spell\"/>"
   ]
  },
  {
   "cell_type": "code",
   "execution_count": 92,
   "metadata": {
    "slideshow": {
     "slide_type": "fragment"
    }
   },
   "outputs": [
    {
     "data": {
      "text/plain": [
       "'Best: 0.005446554669761099 s'"
      ]
     },
     "execution_count": 92,
     "metadata": {},
     "output_type": "execute_result"
    },
    {
     "name": "stdout",
     "output_type": "stream",
     "text": [
      "Called damerau_levenshtein() 86 many times.\n"
     ]
    },
    {
     "data": {
      "text/plain": [
       "[('help', (1.0, 611054034)),\n",
       " ('hello', (1.0, 32960381)),\n",
       " ('hell', (1.0, 22791884)),\n",
       " ('hells', (1.0, 480906)),\n",
       " ('helle', (1.0, 143349))]"
      ]
     },
     "execution_count": 92,
     "metadata": {},
     "output_type": "execute_result"
    }
   ],
   "source": [
    "time_corr = %timeit -q -o corr.suggestions(\"hellp\", max_edit_dist=2)\n",
    "f\"Best: {time_corr.best} s\"\n",
    "corr.suggestions(\"hellp\", verbose=True)[:5]"
   ]
  },
  {
   "cell_type": "markdown",
   "metadata": {
    "slideshow": {
     "slide_type": "slide"
    }
   },
   "source": [
    "### That's a speed increase of *several* orders of magnitude!  \n",
    "  \n",
    "As we can see when passing `verbose=True` our distance function is only called **86 times** for the word 'hellp'. We have effectively reduced the number of candidates for which to compute the distance from ~80 thousand (size of dictionary) to 80.  "
   ]
  },
  {
   "cell_type": "markdown",
   "metadata": {
    "slideshow": {
     "slide_type": "slide"
    }
   },
   "source": [
    "## But is the corrector actually any good? <a name=\"corrector-accuracy\"/>\n",
    "We verified that the SymSpell algorithm indeed allows us to do spelling correction blazingly fast, even in Python. \n",
    "But can the simplistic language model of looking at words independantly from their context and simply ranking them by their distance and frequency produce useful results?  \n",
    "  \n",
    "In order to assess this we need some test data containing words and their misspelled versions[D3].\n",
    "### Misspell data  \n",
    "<br>\n",
    "We're using spelling error data formatted by [Roger Mitton](http://www.dcs.bbk.ac.uk/~ROGER/) to test the corrector.  \n",
    "`aspell.dat`\n",
    "> The aspell file contains 531 misspellings of 450 words. It is derived from one assembled by Atkinson [(click here)](http://aspell.net/test/batch0.tab) for testing the [GNU Aspell spellchecker](http://aspell.net/). \n",
    "\n",
    "`wikipedia.dat`\n",
    "> The wikipedia file contains 2,455 misspellings of 1,922 words. It is a list of misspellings made by Wikipedia editors [(click here)](http://en.wikipedia.org/wiki/Wikipedia:List_of_common_misspellings). "
   ]
  },
  {
   "cell_type": "code",
   "execution_count": 93,
   "metadata": {
    "slideshow": {
     "slide_type": "-"
    }
   },
   "outputs": [
    {
     "name": "stdout",
     "output_type": "stream",
     "text": [
      "Aspell file:\n",
      "\n",
      "$Nevada\n",
      "nevade\n",
      "$Presbyterian\n",
      "presbyterian\n",
      "$RSX\n",
      "rsx\n",
      "$Stephen\n",
      "Steffen\n",
      "$Susan\n",
      "susan\n",
      "\n",
      "Wikipedia file:\n",
      "\n",
      "$Apennines\n",
      "Apenines\n",
      "Appenines\n",
      "$Athenian\n",
      "Athenean\n",
      "$Athenians\n",
      "Atheneans\n",
      "$Bernoulli\n",
      "Bernouilli\n",
      "$Blitzkrieg\n"
     ]
    }
   ],
   "source": [
    "!echo \"Aspell file:\\n\"\n",
    "!head aspell.dat\n",
    "!echo \"\\nWikipedia file:\\n\"\n",
    "!head wikipedia.dat"
   ]
  },
  {
   "cell_type": "code",
   "execution_count": 94,
   "metadata": {
    "slideshow": {
     "slide_type": "subslide"
    }
   },
   "outputs": [],
   "source": [
    "def parse_misspell_data(filename):\n",
    "    \"\"\" Methods that takes a misspel data filename and parses the data into a dictionary that contains \n",
    "        correct words as keys and a list of misspelled version as values.\n",
    "        The method expects a file with exactly one word per line. Words that are prefixed by $ are correctly\n",
    "        spelled and all following words until the next $ are misspelled versions.\n",
    "    \"\"\"\n",
    "    with open(filename) as f:\n",
    "        lines = [line for line in f.read().split('\\n') if line]\n",
    "        misspell_data = {}\n",
    "        misspelled_words_cnt = 0\n",
    "        cursor = ''\n",
    "        for line in lines:\n",
    "            if line.startswith('$'):\n",
    "                cursor = line[1:]\n",
    "                misspell_data[cursor] = []\n",
    "                continue\n",
    "            misspell_data[cursor].append(line)\n",
    "            misspelled_words_cnt += 1\n",
    "        return misspell_data, misspelled_words_cnt"
   ]
  },
  {
   "cell_type": "markdown",
   "metadata": {},
   "source": [
    "In order to test and compare our correcter on the dataset we need some way of measuring it's performance. The most straightforward way is to simply take the dataset and generate for every misspelled word the correction suggestions. Then we look up if the correct word is within the first `consider_corrections_count` corrections and increment a score counter if that is the case. This serves the purpose of emulating the `Did you mean: [list of words]` feature that most (non-auto) correctors offer. "
   ]
  },
  {
   "cell_type": "code",
   "execution_count": 95,
   "metadata": {
    "slideshow": {
     "slide_type": "subslide"
    }
   },
   "outputs": [],
   "source": [
    "def score(misspell_data: Dict[str, List[str]] ,\n",
    "          corrector_func: Callable[[str], Iterable[str]] ,\n",
    "          consider_corrections_count=5):\n",
    "    \"\"\" Method that computes a score for a given misspell dataset, a corrector function, and \n",
    "        the consider_corrections_count which specifies how many corrections should be considered when\n",
    "        determining the score.\n",
    "    \"\"\"\n",
    "    score = 0\n",
    "    for word, misspells in misspell_data.items():\n",
    "        for ms_word in misspells:\n",
    "            corrections = corrector_func(ms_word)\n",
    "            score += 1 if word in corrections[:consider_corrections_count] else 0\n",
    "    return score"
   ]
  },
  {
   "cell_type": "code",
   "execution_count": 96,
   "metadata": {
    "slideshow": {
     "slide_type": "subslide"
    }
   },
   "outputs": [],
   "source": [
    "def test_with_spell_data_and_create_graph(filename, corrector, max_edit_dist=2, max_lookup=5, verbose=False):\n",
    "    \"\"\" Small helper method that simply takes the filename of misspell data with the format specified\n",
    "        in `parse_misspell_data`, computes the relative score for different edit distances and maximal lookups\n",
    "        and plots the results.\n",
    "    \"\"\"\n",
    "    misspell_data, misspelled_words_cnt = parse_misspell_data(filename)\n",
    "    plot_cols = max_edit_dist\n",
    "    plt.figure(figsize=(4*plot_cols, 4), dpi=100)\n",
    "    for edit_dist in range(1, max_edit_dist+1):\n",
    "        corrector_fixed_dist = partial(corrector, max_edit_dist=edit_dist)\n",
    "        score_data = [score(misspell_data, corrector_fixed_dist, lookup)/misspelled_words_cnt \n",
    "                      for lookup in range(1, max_lookup+1)]\n",
    "        if verbose:\n",
    "            print(f\"Score data for {filename} with max edit dist {edit_dist}: {score_data}\")\n",
    "        plt.subplot(1, plot_cols, edit_dist);\n",
    "        plt.gca().set_ylim([0, 1.0]);\n",
    "        plt.bar(range(1, max_lookup+1), score_data);\n",
    "        plt.title(f\"Max edit dist: {edit_dist}\");\n",
    "        plt.ylabel('score in %');\n",
    "        plt.xlabel('max lookup');\n",
    "    plt.tight_layout();\n",
    "    plt.savefig(f'{filename}-score-graph.svg');"
   ]
  },
  {
   "cell_type": "code",
   "execution_count": 97,
   "metadata": {
    "slideshow": {
     "slide_type": "fragment"
    }
   },
   "outputs": [
    {
     "name": "stdout",
     "output_type": "stream",
     "text": [
      "Score data for aspell.dat with max edit dist 1: [0.3860640301318267, 0.4613935969868173, 0.4839924670433145, 0.4915254237288136, 0.4934086629001883, 0.4934086629001883, 0.4934086629001883, 0.4952919020715631, 0.4952919020715631, 0.4952919020715631]\n",
      "Score data for aspell.dat with max edit dist 2: [0.5103578154425612, 0.64030131826742, 0.6836158192090396, 0.7024482109227872, 0.71939736346516, 0.7212806026365348, 0.7288135593220338, 0.7306967984934086, 0.7306967984934086, 0.7325800376647834]\n",
      "Score data for wikipedia.dat with max edit dist 1: [0.6545824847250509, 0.734826883910387, 0.7523421588594704, 0.7596741344195519, 0.7629327902240326, 0.7641547861507129, 0.764562118126273, 0.7657841140529531, 0.7665987780040733, 0.7674134419551935]\n",
      "Score data for wikipedia.dat with max edit dist 2: [0.7340122199592668, 0.835030549898167, 0.8668024439918534, 0.8806517311608961, 0.8887983706720978, 0.8928716904276985, 0.8965376782077393, 0.8993890020366598, 0.9014256619144603, 0.9022403258655805]\n"
     ]
    },
    {
     "data": {
      "image/png": "[encoded data removed]",
      "text/plain": [
       "<Figure size 800x400 with 2 Axes>"
      ]
     },
     "metadata": {},
     "output_type": "display_data"
    },
    {
     "data": {
      "image/png": "[encoded data removed]",
      "text/plain": [
       "<Figure size 800x400 with 2 Axes>"
      ]
     },
     "metadata": {},
     "output_type": "display_data"
    }
   ],
   "source": [
    "test_with_spell_data_and_create_graph('aspell.dat', corr.suggestions, max_lookup=10, verbose=True);\n",
    "test_with_spell_data_and_create_graph('wikipedia.dat', corr.suggestions, max_lookup=10, verbose=True);"
   ]
  },
  {
   "cell_type": "markdown",
   "metadata": {},
   "source": [
    "Looking at the results from benchmarking the corrector it is suprisingly effective. On the aspell data set the correct word is contained within in the 5 highest ranked suggestions nearly 72% of the time (using a max edit distance of 2). Increasing the maximal lookup to 10 items increases the accuracy to ~73.3%.\n",
    "Even better are the results on the wikipedia dataset where the accuracy is 88.9% for a lookup of 5 items. Increasing the lookup to 10 items results in an accuracy of 90.2%.\n",
    "The difference in the datasets are due to the aspell dataset containing more serious spelling mistakes than the wikipedia dataset."
   ]
  },
  {
   "cell_type": "markdown",
   "metadata": {},
   "source": [
    "## Spelling correction: Conclusion <a name=\"correcting-conclusion\"/>\n",
    "\n",
    "Utilizing the SymSpell algorithm and a carefully composed word frequency file it is possible to achieve both accurate and performant spelling correction.  \n",
    "The accuracy of the correction could be further increased by weighing the distance between words and their respective frequencys differently. When ranking the correction suggestions it might bebeneficial to rank a word, that has a distance of 2 from the originial and a very high freqeuency, higher than a word that has a distance of 1 but is only very rarely used within the language.  \n",
    "Another measure that would likely increase performance is using n-gram (contigous sequence of n words) data, in order to consider the context that words appear in.  \n",
    "The run time and memory efficiency could be further optimized by using a fast compiled language and using datastructures that are able to store strings efficiently, a trie or directed acyclic word graph could be used."
   ]
  },
  {
   "cell_type": "markdown",
   "metadata": {
    "slideshow": {
     "slide_type": "slide"
    }
   },
   "source": [
    "# References  <a name=\"references\"/>\n",
    "\n",
    "1. Bentley, John (1985): programming pearls, A spelling checker. In: Communications of the ACM, Volume 28 Number 5\n",
    "2. Garbe, Wolf (2012): 1000x Faster Spelling Correction algorithm, Wolf, [online] [medium.com](https://medium.com/@wolfgarbe/1000x-faster-spelling-correction-algorithm-2012-8701fcd87a5f) [accessed 16.06.2018]\n",
    "3. McIlroy, Malcolm Douglas (1971-1986): A research UNIX Reader: Annotated Excerpts from the Programmer’s Manual, [online] [cs.dartmouth.edu](http://www.cs.dartmouth.edu/~doug/reader.pdf) [accessed 12.06.2018]\n",
    "4. Norvig, Peter (2007-2016): How to Write a Spelling Corrector, [online] [norvig.com](http://norvig.com/spell-correct.html) [accessed 16.06.2018]  \n",
    "\n",
    "## Data sources <a name=\"data-sources\"/>\n",
    "1. `big.txt`, Peter Norvig, [norvig.com](http://norvig.com/big.txt), [accessed 16.06.2018]\n",
    "2. `frequency_dictionary_en_82_765.txt`, Wolf Garbe, [github.com](https://github.com/wolfgarbe/SymSpell/blob/master/SymSpell/frequency_dictionary_en_82_765.txt), [accessed 16.06.2018]\n",
    "3. `aspell.dat` and `wikipedia.dat`, Roger Mitton, [dcs.bbk.ac.uk](http://www.dcs.bbk.ac.uk/~ROGER/corpora.html), [accessed 16.06.2018]\n",
    "\n",
    "## Libraries <a name=\"libraries\"/>\n",
    "- [marisa_trie](https://github.com/pytries/marisa-trie) (MIT license)  \n",
    "- [matplotlib](https://github.com/matplotlib/matplotlib)  \n",
    "- [memory-profiler](https://github.com/pythonprofilers/memory_profiler) (BSD-new license)\n",
    "- [numpy](https://github.com/numpy/numpy) (BSD-new license)  \n",
    "- [pympler](https://github.com/pympler/pympler) (Apache-2.0)"
   ]
  },
  {
   "cell_type": "code",
   "execution_count": null,
   "metadata": {},
   "outputs": [],
   "source": []
  }
 ],
 "metadata": {
  "git": {
   "suppress_output": false
  },
  "kernelspec": {
   "display_name": "Programming Pearls spelling checker",
   "language": "python",
   "name": "programming-pearls-spelling-checker"
  },
  "language_info": {
   "codemirror_mode": {
    "name": "ipython",
    "version": 3
   },
   "file_extension": ".py",
   "mimetype": "text/x-python",
   "name": "python",
   "nbconvert_exporter": "python",
   "pygments_lexer": "ipython3",
   "version": "3.6.2"
  }
 },
 "nbformat": 4,
 "nbformat_minor": 2
}
