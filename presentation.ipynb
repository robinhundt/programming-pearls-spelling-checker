{
 "cells": [
  {
   "cell_type": "code",
   "execution_count": 46,
   "metadata": {
    "slideshow": {
     "slide_type": "skip"
    }
   },
   "outputs": [
    {
     "name": "stdout",
     "output_type": "stream",
     "text": [
      "The memory_profiler extension is already loaded. To reload it, use:\n",
      "  %reload_ext memory_profiler\n"
     ]
    }
   ],
   "source": [
    "# just some boring imports\n",
    "from typing import Set, Tuple, Iterable, Callable, List, Dict\n",
    "from types import MethodType\n",
    "from functools import partial\n",
    "import re\n",
    "import timeit\n",
    "\n",
    "import marisa_trie\n",
    "import numpy as np\n",
    "import matplotlib.pyplot as plt\n",
    "from pympler.asizeof import asizeof\n",
    "from IPython.core.interactiveshell import InteractiveShell\n",
    "\n",
    "InteractiveShell.ast_node_interactivity = \"all\"\n",
    "\n",
    "%load_ext memory_profiler\n",
    "%matplotlib inline\n",
    "\n",
    "# small decorator to split class definitions over several slides\n",
    "def add_to_class(cls):\n",
    "    def decorator(fn):\n",
    "        setattr(cls, fn.__name__, fn)\n",
    "        return fn\n",
    "    return decorator"
   ]
  },
  {
   "cell_type": "markdown",
   "metadata": {
    "slideshow": {
     "slide_type": "slide"
    }
   },
   "source": [
    "# Datastructures and Algorithms for spell checking and correction\n",
    "\n",
    "By Robin Hundt  \n",
    "<br>\n",
    "Git: https://gitlab.gwdg.de/robinwilliam.hundt/programming-pearls-spelling-checker"
   ]
  },
  {
   "cell_type": "markdown",
   "metadata": {
    "slideshow": {
     "slide_type": "slide"
    }
   },
   "source": [
    "Steve Johnsons first version of spell, 1975.\n",
    "\n",
    "``` bash\n",
    "prepare filename |                 # remove formatting commands\n",
    "    translit A-Z a-z |             # map upper to lower case\n",
    "        translit ^a-z @n |         # remove punctuation\n",
    "            sort |                 # put words in alphabetical order\n",
    "                unique |           # remove duplicate words\n",
    "                    common -2 dict # report words not in dictionary\n",
    "```\n",
    "(from \"Programming Pearls, a spelling checker. Jon Bentley. Communications of the ACM, May 1985 Volume 28 Number 5\")"
   ]
  },
  {
   "cell_type": "markdown",
   "metadata": {
    "slideshow": {
     "slide_type": "notes"
    }
   },
   "source": [
    "- 1975 Steve Johnson wrote first version of spell\n",
    "- spent one afternoon combining 6 unix programs into a new useful one\n",
    "- later became standard unix spell checker for english"
   ]
  },
  {
   "cell_type": "markdown",
   "metadata": {
    "slideshow": {
     "slide_type": "slide"
    }
   },
   "source": [
    "# Overview of the talk\n",
    "\n",
    "##  Spell checking<br>\n",
    "- Primitive implementation\n",
    "- Trie data structure  \n",
    "\n",
    "## Spell correcting<br>\n",
    "- String metrics\n",
    "- Corrector based on SymSpell algorithm"
   ]
  },
  {
   "cell_type": "markdown",
   "metadata": {
    "slideshow": {
     "slide_type": "slide"
    }
   },
   "source": [
    "## Specification of spell checker\n",
    "![](spell-checker-diagram.svg)"
   ]
  },
  {
   "cell_type": "code",
   "execution_count": 2,
   "metadata": {
    "slideshow": {
     "slide_type": "fragment"
    }
   },
   "outputs": [],
   "source": [
    "def spell(filename: str, word_dict: str) -> Set[str]:\n",
    "    w = set(word_dict.lower().split('\\n'))\n",
    "    with open(filename) as f:\n",
    "        return set(re.sub(r\"[^a-z]\", \"\\n\", f.read().lower()).split('\\n')) - w"
   ]
  },
  {
   "cell_type": "markdown",
   "metadata": {
    "slideshow": {
     "slide_type": "notes"
    }
   },
   "source": [
    "`spell` like spelling checker in just 4 lines of python (excl. imports) by utilizing the standard libraries.   \n",
    "Obvious shortcomings like converting `isn't` to `isn` and `t` because punctuation is stripped."
   ]
  },
  {
   "cell_type": "markdown",
   "metadata": {
    "slideshow": {
     "slide_type": "slide"
    }
   },
   "source": [
    "### Our test file (thanks to [Peter Norvig](http://norvig.com/))"
   ]
  },
  {
   "cell_type": "code",
   "execution_count": 3,
   "metadata": {
    "slideshow": {
     "slide_type": "-"
    }
   },
   "outputs": [
    {
     "name": "stdout",
     "output_type": "stream",
     "text": [
      "word count: 1095695 big.txt \n",
      "\n",
      "\"You can easily imagine, Mr. Holmes, how curious I became as to what the meaning of this extraordinary performance could possibly be. They were always very careful, I observed, to turn my face away from the window, so that I became consumed with the desire to see what was going on behind my back. At first it seemed to be impossible, but I soon devised a means. My hand-mirror had been broken, so a happy thought seized me, and I concealed a piece of the glass in my handkerchief. On the next occasion, in the midst of my laughter, I put my handkerchief up to my eyes, and was able with a little management to see all that there was behind me. I confess that I was disappointed. There was nothing. At least that was my first impression. At the second glance, however, I perceived that there was a man standing in the Southampton Road, a small bearded man in a grey suit, who seemed to be looking in my direction. The road is an important highway, and there are usually people there. This man, however, was leaning against the railings which bordered our field and was looking earnestly up. I lowered my handkerchief and glanced at Mrs. Rucastle to find her eyes fixed upon me with a most searching gaze. She said nothing, but I am convinced that she had divined that I had a mirror in my hand and had seen what was behind me. She rose at once.\n"
     ]
    }
   ],
   "source": [
    "!echo word count: $(wc -w big.txt) '\\n'\n",
    "!head -n 5000 big.txt | tail -n 1"
   ]
  },
  {
   "cell_type": "markdown",
   "metadata": {
    "slideshow": {
     "slide_type": "slide"
    }
   },
   "source": [
    "### Standard unix english dictionary file"
   ]
  },
  {
   "cell_type": "code",
   "execution_count": 4,
   "metadata": {
    "slideshow": {
     "slide_type": "-"
    }
   },
   "outputs": [
    {
     "name": "stdout",
     "output_type": "stream",
     "text": [
      "word count: 99171 /usr/share/dict/words \n",
      "\n",
      "Eula\n",
      "Eula's\n",
      "Euler\n",
      "Eumenides\n",
      "Eumenides's\n",
      "Eunice\n",
      "Eunice's\n",
      "Euphrates\n",
      "Euphrates's\n",
      "Eurasia\n"
     ]
    }
   ],
   "source": [
    "!echo word count: $(wc -w /usr/share/dict/words) '\\n'\n",
    "!head -n 5000 /usr/share/dict/words | tail"
   ]
  },
  {
   "cell_type": "code",
   "execution_count": 5,
   "metadata": {
    "slideshow": {
     "slide_type": "skip"
    }
   },
   "outputs": [],
   "source": [
    "with open('/usr/share/dict/words') as w:\n",
    "    words_file = w.read()"
   ]
  },
  {
   "cell_type": "markdown",
   "metadata": {
    "slideshow": {
     "slide_type": "slide"
    }
   },
   "source": [
    "### Using an american dict. for british texts will result in a lot of false positives..."
   ]
  },
  {
   "cell_type": "code",
   "execution_count": 6,
   "metadata": {
    "slideshow": {
     "slide_type": "fragment"
    }
   },
   "outputs": [
    {
     "data": {
      "text/plain": [
       "5065"
      ]
     },
     "execution_count": 6,
     "metadata": {},
     "output_type": "execute_result"
    },
    {
     "data": {
      "text/plain": [
       "['resecting',\n",
       " 'distal',\n",
       " 'tubulo',\n",
       " 'bons',\n",
       " 'depositaries',\n",
       " 'disinfection',\n",
       " 'mitrofanych',\n",
       " 'dolokhov',\n",
       " 'emboli',\n",
       " 'footpace']"
      ]
     },
     "execution_count": 6,
     "metadata": {},
     "output_type": "execute_result"
    }
   ],
   "source": [
    "errors = spell('big.txt', words_file)\n",
    "len(errors)\n",
    "list(errors)[:10]"
   ]
  },
  {
   "cell_type": "markdown",
   "metadata": {
    "slideshow": {
     "slide_type": "slide"
    }
   },
   "source": [
    "### Rough estimate of memory consumption"
   ]
  },
  {
   "cell_type": "code",
   "execution_count": 7,
   "metadata": {
    "slideshow": {
     "slide_type": "-"
    }
   },
   "outputs": [
    {
     "name": "stdout",
     "output_type": "stream",
     "text": [
      "peak memory: 189.10 MiB, increment: 27.04 MiB\n"
     ]
    }
   ],
   "source": [
    "%memit spell('big.txt', words_file)"
   ]
  },
  {
   "cell_type": "markdown",
   "metadata": {
    "slideshow": {
     "slide_type": "fragment"
    }
   },
   "source": [
    "### Benchmark of execution time"
   ]
  },
  {
   "cell_type": "code",
   "execution_count": 8,
   "metadata": {
    "slideshow": {
     "slide_type": "-"
    }
   },
   "outputs": [
    {
     "data": {
      "text/plain": [
       "'Best: 0.6085993873421103 s'"
      ]
     },
     "execution_count": 8,
     "metadata": {},
     "output_type": "execute_result"
    }
   ],
   "source": [
    "time_set = %timeit -q -o -n 3 -r 10 spell('big.txt', words_file)\n",
    "f\"Best: {time_set.best} s\""
   ]
  },
  {
   "cell_type": "markdown",
   "metadata": {
    "slideshow": {
     "slide_type": "fragment"
    }
   },
   "source": [
    "### That is quite fast for a 1 million words file!"
   ]
  },
  {
   "cell_type": "markdown",
   "metadata": {
    "slideshow": {
     "slide_type": "skip"
    }
   },
   "source": [
    "The speed is actually quite good, compared to the already optimized version of `spell` by Doug McIlroy (written in 1978). That version managed to check a 5,000 word document in **under 30 seconds** (on a VAX-11/750 with 3.125 MHz). The dramatic decrease in spell checking time (30 seconds for 5,000 words compared to ~1 seconds for nearly 1,000,000 words) can be largely attributed to tremendous increase in computing power."
   ]
  },
  {
   "cell_type": "markdown",
   "metadata": {
    "slideshow": {
     "slide_type": "fragment"
    }
   },
   "source": [
    "### But can we do better?"
   ]
  },
  {
   "cell_type": "markdown",
   "metadata": {
    "slideshow": {
     "slide_type": "slide"
    }
   },
   "source": [
    "\n",
    "## Using a trie (prefix tree) to store strings \n",
    "\n",
    "<div>\n",
    "    <img src=\"Trie.svg\" width=300 height=600>\n",
    "    <a href=\"https://de.wikipedia.org/wiki/Trie#/media/File:Trie.svg\">Trie.svg</a> created by <a href=\"https://de.wikipedia.org/wiki/Benutzer:Nd\">nd</a> (<a href=\"https://creativecommons.org/licenses/by-sa/3.0/\">CC BY-SA 3.0</a>)\n",
    "</div>\n"
   ]
  },
  {
   "cell_type": "markdown",
   "metadata": {
    "slideshow": {
     "slide_type": "notes"
    }
   },
   "source": [
    "We can use a **Trie** or \"prefix-tree\", which is an ordered tree data structure, to efficiently store all the words from our dictionary.  \n",
    "The nodes themselves don't carry information about the key they're storing, instead the key is solely encoded in the position of the node and the information associated with the edges inside it."
   ]
  },
  {
   "cell_type": "markdown",
   "metadata": {
    "slideshow": {
     "slide_type": "subslide"
    }
   },
   "source": [
    "Simple Node object that solely stores information about neighbouring nodes and which letter the the connecting edges represent."
   ]
  },
  {
   "cell_type": "code",
   "execution_count": 9,
   "metadata": {
    "slideshow": {
     "slide_type": "fragment"
    }
   },
   "outputs": [],
   "source": [
    "class IllegalTrieEdge(Exception):\n",
    "    pass\n",
    "\n",
    "class Node:\n",
    "    def __init__(self):\n",
    "        self.edges = {}\n",
    "        self.end_of_word = False  # note that not only leaves can be valid words, but also intermediate nodes\n",
    "        \n",
    "    def add_edge(self, ch: str):\n",
    "        if len(ch) != 1:\n",
    "            raise IllegalTrieEdge('Edges can only consist of one character')\n",
    "        if ch not in self.edges:\n",
    "            self.edges[ch] = Node()\n",
    "        return self.edges[ch]\n",
    "    \n",
    "    def get_edge(self, ch: str):\n",
    "        return self.edges.get(ch)\n",
    "    \n",
    "    def __contains__(self, edge: str):\n",
    "        return edge in self.edges"
   ]
  },
  {
   "cell_type": "markdown",
   "metadata": {
    "slideshow": {
     "slide_type": "subslide"
    }
   },
   "source": [
    "Very basic implementation of a prefix tree. "
   ]
  },
  {
   "cell_type": "code",
   "execution_count": 10,
   "metadata": {
    "slideshow": {
     "slide_type": "fragment"
    }
   },
   "outputs": [],
   "source": [
    "class Trie:\n",
    "    def __init__(self, words=[]):\n",
    "        self.root = Node()\n",
    "        self._build_trie(words)\n",
    "        \n",
    "    def _find_last_prefix_node(self, word: str) -> Tuple[str, Node]:\n",
    "        v = self.root\n",
    "        prefix = ''\n",
    "        while len(word) > 0 and word[0] in v:\n",
    "            prefix += word[0]\n",
    "            v = v.get_edge(word[0])\n",
    "            word = word[1:]\n",
    "        return prefix, v"
   ]
  },
  {
   "cell_type": "code",
   "execution_count": 11,
   "metadata": {
    "slideshow": {
     "slide_type": "subslide"
    }
   },
   "outputs": [],
   "source": [
    "@add_to_class(Trie)\n",
    "def _add_word(self, word: str) -> bool:\n",
    "    prefix, node = self._find_last_prefix_node(word)\n",
    "    if prefix == word:\n",
    "        node.end_of_word = True\n",
    "        return False\n",
    "    word = word[len(prefix):]\n",
    "    while len(word) > 0:\n",
    "        node = node.add_edge(word[0])\n",
    "        word = word[1:]\n",
    "    node.end_of_word = True\n",
    "    return True"
   ]
  },
  {
   "cell_type": "code",
   "execution_count": 12,
   "metadata": {
    "slideshow": {
     "slide_type": "subslide"
    }
   },
   "outputs": [],
   "source": [
    "@add_to_class(Trie)\n",
    "def _build_trie(self, words: Set[str]):\n",
    "    for word in words:\n",
    "        self._add_word(word)"
   ]
  },
  {
   "cell_type": "code",
   "execution_count": 13,
   "metadata": {
    "slideshow": {
     "slide_type": "subslide"
    }
   },
   "outputs": [],
   "source": [
    "@add_to_class(Trie)\n",
    "def __contains__(self, word: str) -> bool:\n",
    "    prefix, node = self._find_last_prefix_node(word)\n",
    "    return prefix == word and node.end_of_word"
   ]
  },
  {
   "cell_type": "markdown",
   "metadata": {
    "slideshow": {
     "slide_type": "slide"
    }
   },
   "source": [
    "## So lets test it, shall we?  \n",
    "As the dictionary to store inside the trie we'll again use the standard english words file on unix systems, splitted at newlines."
   ]
  },
  {
   "cell_type": "code",
   "execution_count": 14,
   "metadata": {
    "scrolled": true,
    "slideshow": {
     "slide_type": "fragment"
    }
   },
   "outputs": [],
   "source": [
    "with open('/usr/share/dict/words') as w:\n",
    "    words_file = w.read()  \n",
    "    words = [word for word in words_file.split('\\n') if len(word) > 0]"
   ]
  },
  {
   "cell_type": "markdown",
   "metadata": {
    "slideshow": {
     "slide_type": "slide"
    }
   },
   "source": [
    "### Quick test of our implementation"
   ]
  },
  {
   "cell_type": "code",
   "execution_count": 15,
   "metadata": {
    "slideshow": {
     "slide_type": "-"
    }
   },
   "outputs": [],
   "source": [
    "trie = Trie(words)"
   ]
  },
  {
   "cell_type": "code",
   "execution_count": 16,
   "metadata": {
    "slideshow": {
     "slide_type": "fragment"
    }
   },
   "outputs": [
    {
     "data": {
      "text/plain": [
       "[]"
      ]
     },
     "execution_count": 16,
     "metadata": {},
     "output_type": "execute_result"
    },
    {
     "data": {
      "text/plain": [
       "True"
      ]
     },
     "execution_count": 16,
     "metadata": {},
     "output_type": "execute_result"
    },
    {
     "data": {
      "text/plain": [
       "True"
      ]
     },
     "execution_count": 16,
     "metadata": {},
     "output_type": "execute_result"
    }
   ],
   "source": [
    "[word for word in words if word not in trie]\n",
    "'adasedadwa' not in trie\n",
    "'Hallo' not in trie"
   ]
  },
  {
   "cell_type": "markdown",
   "metadata": {
    "slideshow": {
     "slide_type": "slide"
    }
   },
   "source": [
    "### Memory decrease by using a prefix tree (trie)...."
   ]
  },
  {
   "cell_type": "code",
   "execution_count": 18,
   "metadata": {
    "slideshow": {
     "slide_type": "fragment"
    }
   },
   "outputs": [
    {
     "data": {
      "text/plain": [
       "'Size read file: 938664 B; size word list: 6884128 B; size of trie: 93362984 B'"
      ]
     },
     "execution_count": 18,
     "metadata": {},
     "output_type": "execute_result"
    },
    {
     "data": {
      "text/plain": [
       "'Increase in size by factor 99.46368881729778'"
      ]
     },
     "execution_count": 18,
     "metadata": {},
     "output_type": "execute_result"
    }
   ],
   "source": [
    "size_words_file = asizeof(words_file)\n",
    "size_words = asizeof(words)\n",
    "size_trie = asizeof(trie)\n",
    "f\"Size read file: {size_words_file} B; size word list: {size_words} B; size of trie: {size_trie} B\"\n",
    "f\"Increase in size by factor {size_trie/size_words_file}\""
   ]
  },
  {
   "cell_type": "markdown",
   "metadata": {
    "slideshow": {
     "slide_type": "slide"
    }
   },
   "source": [
    "### An increase by a factor of ~ 100 ?!  \n",
    "<br>\n",
    "<img src=\"https://media.giphy.com/media/3o7btPCcdNniyf0ArS/giphy-downsized.gif\" width=400>"
   ]
  },
  {
   "cell_type": "markdown",
   "metadata": {
    "slideshow": {
     "slide_type": "notes"
    }
   },
   "source": [
    "\n",
    "Python is a highly dynamic language where **everything** is an object, even simple things like an integer or character. This adds an immense overhead, which results in this dramatic increase in size.  \n",
    "So saving space by using a prefix tree implemented in native Python is not possible, due to the limitations of the language.  "
   ]
  },
  {
   "cell_type": "markdown",
   "metadata": {
    "slideshow": {
     "slide_type": "slide"
    }
   },
   "source": [
    "\n",
    "### But maybe it is at least fast?  \n",
    "\n",
    "We'll adapt the `spell` function from earlier to calculate $A \\backslash B$ where $A = \\{w | w$ in file$\\}$ and \n",
    "$B = \\{w | w$ in dictionary$\\}$ and $B$ is a Python object implementing the `__contains__` method."
   ]
  },
  {
   "cell_type": "code",
   "execution_count": 19,
   "metadata": {
    "slideshow": {
     "slide_type": "slide"
    }
   },
   "outputs": [],
   "source": [
    "def spell_G(filename: str, word_dict) -> Set[str]:\n",
    "    with open(filename) as f:\n",
    "        return {\n",
    "            word for word in\n",
    "            # read the file to check -> convert to lower -> split at newlines \n",
    "            # -> remove punctuation -> remove double occurences (conv. to set)\n",
    "            set(re.sub(r\"[^a-z']\", \"\\n\", f.read().lower()).split('\\n'))\n",
    "            if word not in word_dict\n",
    "        }"
   ]
  },
  {
   "cell_type": "code",
   "execution_count": 20,
   "metadata": {
    "slideshow": {
     "slide_type": "fragment"
    }
   },
   "outputs": [
    {
     "data": {
      "text/plain": [
       "'Best: 0.8601375749955574 s'"
      ]
     },
     "execution_count": 20,
     "metadata": {},
     "output_type": "execute_result"
    }
   ],
   "source": [
    "time_trie = %timeit -q -o -n 3 -r 10 spell_G('big.txt', trie)\n",
    "f\"Best: {time_trie.best} s\""
   ]
  },
  {
   "cell_type": "markdown",
   "metadata": {
    "slideshow": {
     "slide_type": "fragment"
    }
   },
   "source": [
    "### Quite underwhelming, but what about a C++ Trie implementation?\n",
    "(We'll use the Python library [marisa-trie](https://github.com/pytries/marisa-trie), a wrapper for the C++ implementation)"
   ]
  },
  {
   "cell_type": "code",
   "execution_count": 21,
   "metadata": {},
   "outputs": [],
   "source": [
    "trie_efficient = marisa_trie.Trie(words)"
   ]
  },
  {
   "cell_type": "code",
   "execution_count": 22,
   "metadata": {
    "scrolled": true,
    "slideshow": {
     "slide_type": "-"
    }
   },
   "outputs": [
    {
     "data": {
      "text/plain": [
       "'Best: 0.6063987583232423 s'"
      ]
     },
     "execution_count": 22,
     "metadata": {},
     "output_type": "execute_result"
    }
   ],
   "source": [
    "time_marisa_trie = %timeit -q -o -n 3 -r 10 spell_G('big.txt', trie_efficient)\n",
    "f\"Best: {time_marisa_trie.best} s\""
   ]
  },
  {
   "cell_type": "markdown",
   "metadata": {
    "slideshow": {
     "slide_type": "slide"
    }
   },
   "source": [
    "# Spelling checker: Conclusion"
   ]
  },
  {
   "cell_type": "code",
   "execution_count": 23,
   "metadata": {
    "slideshow": {
     "slide_type": "fragment"
    }
   },
   "outputs": [
    {
     "data": {
      "image/png": "[encoded data removed]",
      "text/plain": [
       "<Figure size 432x288 with 1 Axes>"
      ]
     },
     "metadata": {},
     "output_type": "display_data"
    }
   ],
   "source": [
    "plt.figure()\n",
    "plt.bar(['spell', 'spell_G(Own Trie)', 'spell_G(marisa_trie)'],\n",
    "        [time_set.best, time_trie.best, time_marisa_trie.best])\n",
    "plt.show();"
   ]
  },
  {
   "cell_type": "markdown",
   "metadata": {
    "slideshow": {
     "slide_type": "slide"
    }
   },
   "source": [
    "# Spelling correction\n",
    "<br>\n",
    "## *Distance* of strings"
   ]
  },
  {
   "cell_type": "markdown",
   "metadata": {
    "slideshow": {
     "slide_type": "slide"
    }
   },
   "source": [
    "### Levenshtein distance (edit distance)\n",
    "\n",
    "Minimal number of single-character edits (insertion, deletion, substitution) needed to change word $a$ into word $b$ \n",
    "\n",
    "\\begin{equation}\n",
    "\\qquad\\operatorname{lev}_{a,b}(i,j) = \\begin{cases}\n",
    "  \\max(i,j) & \\text{ if} \\min(i,j)=0, \\\\\n",
    "  \\min \\begin{cases}\n",
    "          \\operatorname{lev}_{a,b}(i-1,j) + 1 \\\\\n",
    "          \\operatorname{lev}_{a,b}(i,j-1) + 1 \\\\\n",
    "          \\operatorname{lev}_{a,b}(i-1,j-1) + 1_{(a_i \\neq b_j)}\n",
    "       \\end{cases} & \\text{ otherwise.}\n",
    "\\end{cases}\n",
    "\\end{equation}  \n",
    "\n",
    "where:  \n",
    "\n",
    "- $1_{(a_i \\neq b_j)}$ is an indicator function equal to 0 when $a_i = b_j$ and equal to 1 otherwise  \n",
    "- $\\operatorname{lev}_{a,b}(i,j)$ is the distance of the first $i$ characters of $a$ and the first $j$ characters of $b$"
   ]
  },
  {
   "cell_type": "markdown",
   "metadata": {
    "slideshow": {
     "slide_type": "fragment"
    }
   },
   "source": [
    "#### Example:\n",
    "$\\qquad\\operatorname{lev}_{\\text{kitten},\\text{sitting}}(6,7) = 3$  \n",
    "$\\qquad$**k**itten $\\rightarrow$ *s*itt**e**n $\\rightarrow$ sitt*i*n $\\rightarrow$ sittin*g* "
   ]
  },
  {
   "cell_type": "markdown",
   "metadata": {
    "slideshow": {
     "slide_type": "slide"
    }
   },
   "source": [
    "### Recursive implementation with exponential runtime"
   ]
  },
  {
   "cell_type": "code",
   "execution_count": 24,
   "metadata": {
    "slideshow": {
     "slide_type": "-"
    }
   },
   "outputs": [],
   "source": [
    "def levenshtein_distance(s: str, t: str):\n",
    "    if min(len(s), len(t)) == 0:\n",
    "        return max(len(s),len(t))\n",
    "    \n",
    "    cost = 0 if s[-1] == t[-1] else 1\n",
    "    \n",
    "    return min(levenshtein_distance(s[:-1], t) +1,\n",
    "               levenshtein_distance(s, t[:-1]) +1,\n",
    "               levenshtein_distance(s[:-1], t[:-1]) + cost\n",
    "              )"
   ]
  },
  {
   "cell_type": "code",
   "execution_count": 25,
   "metadata": {
    "slideshow": {
     "slide_type": "slide"
    }
   },
   "outputs": [],
   "source": [
    "def close_strings(s: str, words: Iterable[str],\n",
    "                  distace_func: Callable[[str, str], int],\n",
    "                  max_distance: int = 2):\n",
    "    return [word for word in words if 0 < distace_func(s, word) <= max_distance]"
   ]
  },
  {
   "cell_type": "code",
   "execution_count": 26,
   "metadata": {
    "slideshow": {
     "slide_type": "fragment"
    }
   },
   "outputs": [
    {
     "data": {
      "text/plain": [
       "['Ahab', 'Al', 'Aral', 'Ba', 'Baal', 'Bali', 'Ball', 'Ca', 'Cal', 'Cali']"
      ]
     },
     "execution_count": 26,
     "metadata": {},
     "output_type": "execute_result"
    }
   ],
   "source": [
    "close_strings('hal', words, levenshtein_distance, 2)[:10]"
   ]
  },
  {
   "cell_type": "code",
   "execution_count": 27,
   "metadata": {
    "scrolled": true,
    "slideshow": {
     "slide_type": "fragment"
    }
   },
   "outputs": [
    {
     "data": {
      "text/plain": [
       "'Best: 177.78292495990172 s'"
      ]
     },
     "execution_count": 27,
     "metadata": {},
     "output_type": "execute_result"
    }
   ],
   "source": [
    "time_lev = %timeit -q -o -r 3 -n 1 close_strings('hal', words, levenshtein_distance, 2)\n",
    "f\"Best: {time_lev.best} s\""
   ]
  },
  {
   "cell_type": "markdown",
   "metadata": {
    "slideshow": {
     "slide_type": "slide"
    }
   },
   "source": [
    "### Utilize dynamic programming  \n",
    "<br>\n",
    "Brings down runtime to $O(nm)$ instead of exponential to the power of 3"
   ]
  },
  {
   "cell_type": "code",
   "execution_count": 28,
   "metadata": {
    "slideshow": {
     "slide_type": "-"
    }
   },
   "outputs": [],
   "source": [
    "def levenshtein_dp(s: str, t: str):\n",
    "    n = len(s) + 1\n",
    "    m = len(t) + 1\n",
    "    d = np.zeros((n, m))\n",
    "    d[:, 0] = range(n)\n",
    "    d[0, :] = range(m)\n",
    "    \n",
    "    for j in range(1, m):\n",
    "        for i in range(1, n):\n",
    "            cost = 0 if s[i-1] == t[j-1] else 1\n",
    "            d[i, j] = min(d[i-1, j] + 1,\n",
    "                          d[i, j-1] + 1,\n",
    "                          d[i-1, j-1] + cost\n",
    "                         )\n",
    "    return d[n-1,m-1]"
   ]
  },
  {
   "cell_type": "code",
   "execution_count": 29,
   "metadata": {
    "scrolled": true,
    "slideshow": {
     "slide_type": "fragment"
    }
   },
   "outputs": [
    {
     "data": {
      "text/plain": [
       "'Best: 9.601151441922411 s'"
      ]
     },
     "execution_count": 29,
     "metadata": {},
     "output_type": "execute_result"
    }
   ],
   "source": [
    "time_lev_dp = %timeit -q -o -r 3 -n 1 close_strings('hallo', words, levenshtein_dp, 2)\n",
    "f\"Best: {time_lev_dp.best} s\""
   ]
  },
  {
   "cell_type": "markdown",
   "metadata": {
    "scrolled": false,
    "slideshow": {
     "slide_type": "subslide"
    }
   },
   "source": [
    "### Damerau-Levenshtein distance\n",
    "<br>\n",
    "\\begin{equation}\n",
    "d_{a,b}(i,j) = \\begin{cases}\n",
    "  \\max(i,j) & \\text{ if} \\min(i,j)=0, \\\\\n",
    "\\min \\begin{cases}\n",
    "          d_{a,b}(i-1,j) + 1 \\\\\n",
    "          d_{a,b}(i,j-1) + 1 \\\\\n",
    "          d_{a,b}(i-1,j-1) + 1_{(a_i \\neq b_j)} \\\\\n",
    "          d_{a,b}(i-2,j-2) + 1\n",
    "       \\end{cases} & \\text{ if } i,j > 1 \\text{ and } a_i = b_{j-1} \\text{ and } a_{i-1} = b_j \\\\\n",
    "  \\min \\begin{cases}\n",
    "          d_{a,b}(i-1,j) + 1 \\\\\n",
    "          d_{a,b}(i,j-1) + 1 \\\\\n",
    "          d_{a,b}(i-1,j-1) + 1_{(a_i \\neq b_j)}\n",
    "       \\end{cases} & \\text{ otherwise.}\n",
    "\\end{cases}\n",
    "\\end{equation}  \n",
    "<br>\n",
    "Extend `levenshtein_dp()` algorithm to include transpositions."
   ]
  },
  {
   "cell_type": "code",
   "execution_count": 30,
   "metadata": {
    "slideshow": {
     "slide_type": "subslide"
    }
   },
   "outputs": [],
   "source": [
    "def damerau_levenshtein(s: str, t: str):\n",
    "    n = len(s) + 1\n",
    "    m = len(t) + 1\n",
    "    d = np.zeros((n, m))\n",
    "    d[:, 0] = range(n)\n",
    "    d[0, :] = range(m)\n",
    "    \n",
    "    for j in range(1, m):\n",
    "        for i in range(1, n):\n",
    "            cost = 0 if s[i-1] == t[j-1] else 1\n",
    "            d[i, j] = min(d[i-1, j] + 1,\n",
    "                          d[i, j-1] + 1,\n",
    "                          d[i-1, j-1] + cost\n",
    "                         )\n",
    "            if i > 1 and j > 1 and s[i-1] == t[j-2] and s[i-2] == t[j-1]:\n",
    "                d[i,j] = min(d[i,j], d[i-2, j-2] + cost)\n",
    "    return d[n-1,m-1]"
   ]
  },
  {
   "cell_type": "markdown",
   "metadata": {
    "slideshow": {
     "slide_type": "slide"
    }
   },
   "source": [
    "# Spelling correction\n",
    "<br>\n",
    "## Frequency of strings and *fast* corrector"
   ]
  },
  {
   "cell_type": "markdown",
   "metadata": {
    "slideshow": {
     "slide_type": "slide"
    }
   },
   "source": [
    "Use word frequency file by wolfgarbe: [GitHub SymSpell](https://github.com/wolfgarbe/SymSpell)"
   ]
  },
  {
   "cell_type": "code",
   "execution_count": 31,
   "metadata": {},
   "outputs": [
    {
     "name": "stdout",
     "output_type": "stream",
     "text": [
      "word count: 82765 frequency_dictionary_en_82_765.txt \n",
      "\n",
      "mrs 12206596\n",
      "restoration 12202668\n",
      "convenience 12201623\n",
      "returning 12197026\n",
      "ralph 12190683\n",
      "opposition 12183104\n",
      "container 12181942\n",
      "defendant 12169689\n",
      "warner 12165874\n",
      "confirmation 12157725\n"
     ]
    }
   ],
   "source": [
    "!echo word count: $(wc -l frequency_dictionary_en_82_765.txt) '\\n'\n",
    "!head -n 5000 frequency_dictionary_en_82_765.txt | tail"
   ]
  },
  {
   "cell_type": "code",
   "execution_count": 32,
   "metadata": {
    "slideshow": {
     "slide_type": "fragment"
    }
   },
   "outputs": [],
   "source": [
    "with open('frequency_dictionary_en_82_765.txt') as freq:\n",
    "    freq = {word: int(cnt) for word, cnt in [line.split() for line in freq.read().split('\\n') if line]}"
   ]
  },
  {
   "cell_type": "code",
   "execution_count": 33,
   "metadata": {
    "slideshow": {
     "slide_type": "skip"
    }
   },
   "outputs": [
    {
     "data": {
      "image/png": "[encoded data removed]",
      "text/plain": [
       "<Figure size 800x400 with 2 Axes>"
      ]
     },
     "metadata": {},
     "output_type": "display_data"
    }
   ],
   "source": [
    "sorted_freq_tuples = sorted([(w, c) for w,c in freq.items()], key=lambda t: -t[1])\n",
    "\n",
    "words, counts = zip(*sorted_freq_tuples)\n",
    "\n",
    "plt.figure(figsize=(8,4), dpi=100)\n",
    "plt.subplot(121)\n",
    "plt.bar(words[:10], counts[:10])\n",
    "plt.xticks(rotation='vertical')\n",
    "plt.ylabel('word frequency')\n",
    "plt.subplot(122)\n",
    "plt.bar(words[-10:], counts[-10:])\n",
    "plt.xticks(rotation='vertical')\n",
    "plt.ylabel('word frequency')\n",
    "plt.tight_layout()\n",
    "plt.savefig('word-freqs.svg');"
   ]
  },
  {
   "cell_type": "markdown",
   "metadata": {
    "slideshow": {
     "slide_type": "slide"
    }
   },
   "source": [
    "### Distribution of ten most and least common words\n",
    "![](word-freqs.svg)"
   ]
  },
  {
   "cell_type": "markdown",
   "metadata": {
    "slideshow": {
     "slide_type": "slide"
    }
   },
   "source": [
    "## Symmetric delete spelling correction ([SymSpell](https://towardsdatascience.com/symspell-vs-bk-tree-100x-faster-fuzzy-string-search-spell-checking-c4f10d80a078))\n",
    "\n",
    "### Idea: Reduce candidates to calc. edit distance for\n",
    "- pre-calculate possible string by deleting at most n chars\n",
    "- store deletes in dictionary with candidate correction terms\n",
    "- calc. deletes for search term and look them up in dictionary\n",
    "- only calc. edit distance for terms stored as candidate corrections\n",
    "- sort by edit dist. and frequency\n"
   ]
  },
  {
   "cell_type": "code",
   "execution_count": 34,
   "metadata": {
    "slideshow": {
     "slide_type": "subslide"
    }
   },
   "outputs": [],
   "source": [
    "def splits(s: str) -> List[str]:\n",
    "    return [(s[:i], s[i:]) for i in range(len(s)+1)]\n",
    "\n",
    "def possible_deletions(s: str, max_edit_dist: int = 1) -> Set[str]:\n",
    "    deletions = {s}\n",
    "    for i in range(max_edit_dist):\n",
    "        i_deletions = set()\n",
    "        for word in deletions:\n",
    "            split_words = splits(word)\n",
    "            i_deletions |= {a+b[1:] for a,b in split_words}\n",
    "        deletions |= i_deletions\n",
    "    return deletions\n",
    "        \n",
    "    return {a+b[1:] for a,b in splits if b}"
   ]
  },
  {
   "cell_type": "code",
   "execution_count": 35,
   "metadata": {
    "slideshow": {
     "slide_type": "subslide"
    }
   },
   "outputs": [],
   "source": [
    "class SpellingCorrector:\n",
    "    def __init__(self, filename, max_edit_dist=2):\n",
    "        self._dictionary = {}\n",
    "        self.max_edit_dist = max_edit_dist\n",
    "        self._init_dict_with_freq_file(filename)\n",
    "        \n",
    "    \n",
    "    def _create_dict_entry(self, word, cnt):\n",
    "        self._dictionary[word] = ([], int(cnt))\n",
    "        deletes = possible_deletions(word, self.max_edit_dist)\n",
    "        for part_word in deletes:\n",
    "            if part_word in self._dictionary:\n",
    "                self._dictionary[part_word][0].append(word)\n",
    "            else:\n",
    "                self._dictionary[part_word] = ([word], 0)\n",
    "\n",
    "    "
   ]
  },
  {
   "cell_type": "code",
   "execution_count": 36,
   "metadata": {
    "slideshow": {
     "slide_type": "subslide"
    }
   },
   "outputs": [],
   "source": [
    "@add_to_class(SpellingCorrector)\n",
    "def _init_dict_with_freq_file(self, filename):\n",
    "    with open(filename) as f:\n",
    "        word_cnt_tuples = [line.split() for line in f.read().split('\\n') if line]\n",
    "        for word, cnt in word_cnt_tuples:\n",
    "            self._create_dict_entry(word, cnt)"
   ]
  },
  {
   "cell_type": "code",
   "execution_count": 37,
   "metadata": {
    "slideshow": {
     "slide_type": "subslide"
    }
   },
   "outputs": [],
   "source": [
    "class InvalidMaxEditDist(Exception):\n",
    "    pass\n",
    "\n",
    "@add_to_class(SpellingCorrector)\n",
    "def _suggestion_candidates(self, word, max_edit_dist=2,\n",
    "                           edit_dist_func=damerau_levenshtein,\n",
    "                           verbose=False\n",
    "                          ):\n",
    "    if not (0 < max_edit_dist <= self.max_edit_dist):\n",
    "        raise InvalidMaxEditDist(f\"max_edit_dist must be in range (0,{self.max_edit_dist}]\")\n",
    "    deletes = possible_deletions(word, max_edit_dist)\n",
    "    suggestion_dict = {}\n",
    "    tried_corrections = set()\n",
    "    dist_func_counter = 0\n",
    "    for part_word in deletes:\n",
    "        corrections = self._dictionary.get(part_word, ([], 0))[0]\n",
    "        for correction in corrections:\n",
    "            if correction not in tried_corrections:\n",
    "                tried_corrections.add(correction)\n",
    "                dist = edit_dist_func(correction, word)\n",
    "                dist_func_counter += 1\n",
    "                if  dist <= max_edit_dist:\n",
    "                    suggestion_dict[correction] = (dist, self._dictionary[correction][1])\n",
    "    if verbose:\n",
    "        print(f\"Called {edit_dist_func.__name__}() {dist_func_counter} many times.\")\n",
    "    return suggestion_dict\n"
   ]
  },
  {
   "cell_type": "code",
   "execution_count": 38,
   "metadata": {
    "slideshow": {
     "slide_type": "subslide"
    }
   },
   "outputs": [],
   "source": [
    "@add_to_class(SpellingCorrector)\n",
    "def suggestions(self, word: str, verbose=False, **kwargs):\n",
    "    word = word.lower()\n",
    "    candidates = self._suggestion_candidates(word, verbose=verbose, **kwargs)\n",
    "    sorted_candidates = sorted(candidates.items(), key=lambda tup: (tup[1][0], -tup[1][1]))\n",
    "    if verbose:\n",
    "        return sorted_candidates\n",
    "    return [word for word, _ in sorted_candidates]"
   ]
  },
  {
   "cell_type": "code",
   "execution_count": 39,
   "metadata": {
    "slideshow": {
     "slide_type": "slide"
    }
   },
   "outputs": [],
   "source": [
    "corr = SpellingCorrector('frequency_dictionary_en_82_765.txt', max_edit_dist=2)"
   ]
  },
  {
   "cell_type": "markdown",
   "metadata": {},
   "source": [
    "### Small slice of the underlying dictionary structure"
   ]
  },
  {
   "cell_type": "code",
   "execution_count": 40,
   "metadata": {
    "slideshow": {
     "slide_type": "fragment"
    }
   },
   "outputs": [
    {
     "data": {
      "text/plain": [
       "[('the', (['the', 'other', 'they', '...'], 23135851162)),\n",
       " ('he', (['he', 'when', 'here', '...'], 842847219)),\n",
       " ('e', (['the', 'be', 'are', '...'], 0)),\n",
       " ('th', (['the', 'that', 'this', '...'], 0)),\n",
       " ('t', (['the', 'to', 'it', '...'], 0))]"
      ]
     },
     "execution_count": 40,
     "metadata": {},
     "output_type": "execute_result"
    }
   ],
   "source": [
    "[(k, (data[0][:3]+['...'], data[1])) for k, data in list(corr._dictionary.items())[:5]]"
   ]
  },
  {
   "cell_type": "markdown",
   "metadata": {
    "slideshow": {
     "slide_type": "slide"
    }
   },
   "source": [
    "## So lets benchmark it!"
   ]
  },
  {
   "cell_type": "code",
   "execution_count": 41,
   "metadata": {
    "slideshow": {
     "slide_type": "fragment"
    }
   },
   "outputs": [
    {
     "data": {
      "text/plain": [
       "'Best: 0.013340204500127583 s'"
      ]
     },
     "execution_count": 41,
     "metadata": {},
     "output_type": "execute_result"
    },
    {
     "name": "stdout",
     "output_type": "stream",
     "text": [
      "Called damerau_levenshtein() 191 many times.\n"
     ]
    },
    {
     "data": {
      "text/plain": [
       "[('hall', (1.0, 61265768)),\n",
       " ('hello', (1.0, 32960381)),\n",
       " ('halo', (1.0, 6194202)),\n",
       " ('halls', (1.0, 4607236)),\n",
       " ('halle', (1.0, 1568027))]"
      ]
     },
     "execution_count": 41,
     "metadata": {},
     "output_type": "execute_result"
    }
   ],
   "source": [
    "time_corr = %timeit -q -o corr.suggestions(\"Hallo\", max_edit_dist=2)\n",
    "f\"Best: {time_corr.best} s\"\n",
    "corr.suggestions(\"Hallo\", verbose=True)[:5]"
   ]
  },
  {
   "cell_type": "markdown",
   "metadata": {
    "slideshow": {
     "slide_type": "slide"
    }
   },
   "source": [
    "## That's a speed increase of *several* orders of magnitude!"
   ]
  },
  {
   "cell_type": "markdown",
   "metadata": {
    "slideshow": {
     "slide_type": "fragment"
    }
   },
   "source": [
    "## But is the corrector actually any good?"
   ]
  },
  {
   "cell_type": "markdown",
   "metadata": {
    "slideshow": {
     "slide_type": "slide"
    }
   },
   "source": [
    "### Misspell data  \n",
    "<br>\n",
    "We're using spelling error data formatted by [Roger Mitton](http://www.dcs.bbk.ac.uk/~ROGER/) to test the corrector.  \n",
    "`aspell.dat`\n",
    "> The aspell file contains 531 misspellings of 450 words. It is derived from one assembled by Atkinson [(click here)](http://aspell.net/test/batch0.tab) for testing the [GNU Aspell spellchecker](http://aspell.net/). \n",
    "\n",
    "`wikipedia.dat`\n",
    "> The wikipedia file contains 2,455 misspellings of 1,922 words. It is a list of misspellings made by Wikipedia editors [(click here)](http://en.wikipedia.org/wiki/Wikipedia:List_of_common_misspellings). "
   ]
  },
  {
   "cell_type": "code",
   "execution_count": 42,
   "metadata": {
    "slideshow": {
     "slide_type": "subslide"
    }
   },
   "outputs": [],
   "source": [
    "def parse_misspell_data(filename):\n",
    "    with open(filename) as f:\n",
    "        lines = [line for line in f.read().split('\\n') if line]\n",
    "        misspell_data = {}\n",
    "        misspelled_words_cnt = 0\n",
    "        cursor = ''\n",
    "        for line in lines:\n",
    "            if line.startswith('$'):\n",
    "                cursor = line[1:]\n",
    "                misspell_data[cursor] = []\n",
    "                continue\n",
    "            misspell_data[cursor].append(line)\n",
    "            misspelled_words_cnt += 1\n",
    "        return misspell_data, misspelled_words_cnt"
   ]
  },
  {
   "cell_type": "code",
   "execution_count": 43,
   "metadata": {
    "slideshow": {
     "slide_type": "subslide"
    }
   },
   "outputs": [],
   "source": [
    "def score(misspell_data: Dict[str, List[str]] ,\n",
    "          corrector_func: Callable[[str], Iterable[str]] ,\n",
    "          consider_corrections_count=5):\n",
    "    score = 0\n",
    "    for word, misspells in misspell_data.items():\n",
    "        for ms_word in misspells:\n",
    "            try:\n",
    "                corrections = corrector_func(ms_word)\n",
    "                score += 1 if word in corrections[:consider_corrections_count] else 0\n",
    "            except IndexError:\n",
    "                pass\n",
    "    return score"
   ]
  },
  {
   "cell_type": "code",
   "execution_count": 44,
   "metadata": {
    "slideshow": {
     "slide_type": "subslide"
    }
   },
   "outputs": [],
   "source": [
    "def test_with_spell_data_and_create_graph(filename, corrector, max_edit_dist=2, max_lookup=5):\n",
    "    misspell_data, misspelled_words_cnt = parse_misspell_data(filename)\n",
    "    plot_cols = max_edit_dist\n",
    "    plt.figure(figsize=(4*plot_cols, 4), dpi=100)\n",
    "    for edit_dist in range(1, max_edit_dist+1):\n",
    "        corrector_fixed_dist = partial(corrector, max_edit_dist=edit_dist)\n",
    "        score_data = [score(misspell_data, corrector_fixed_dist, lookup)/misspelled_words_cnt \n",
    "                      for lookup in range(1, max_lookup+1)]\n",
    "        print(score_data)\n",
    "        plt.subplot(1, plot_cols, edit_dist)\n",
    "        plt.gca().set_ylim([0, 1.0])\n",
    "        plt.bar(range(1, max_lookup+1), score_data)\n",
    "        plt.title(f\"Max edit dist: {edit_dist}\")\n",
    "        plt.ylabel('score in %')\n",
    "        plt.xlabel('max lookup')\n",
    "    plt.tight_layout()\n",
    "    plt.savefig(f'{filename}-score-graph.svg');"
   ]
  },
  {
   "cell_type": "code",
   "execution_count": 47,
   "metadata": {
    "slideshow": {
     "slide_type": "fragment"
    }
   },
   "outputs": [
    {
     "name": "stdout",
     "output_type": "stream",
     "text": [
      "[0.3860640301318267, 0.4595103578154426, 0.4839924670433145, 0.4915254237288136, 0.4934086629001883, 0.4934086629001883, 0.4934086629001883, 0.4952919020715631, 0.4952919020715631, 0.4952919020715631]\n",
      "[0.5103578154425612, 0.6421845574387948, 0.6836158192090396, 0.7024482109227872, 0.71939736346516, 0.7212806026365348, 0.7288135593220338, 0.7306967984934086, 0.7306967984934086, 0.7325800376647834]\n",
      "[0.6545824847250509, 0.734826883910387, 0.7523421588594704, 0.7596741344195519, 0.7629327902240326, 0.7641547861507129, 0.764562118126273, 0.7657841140529531, 0.7665987780040733, 0.7674134419551935]\n",
      "[0.7340122199592668, 0.835030549898167, 0.8668024439918534, 0.8806517311608961, 0.8887983706720978, 0.8928716904276985, 0.8965376782077393, 0.8993890020366598, 0.9014256619144603, 0.9022403258655805]\n"
     ]
    },
    {
     "data": {
      "image/png": "[encoded data removed]",
      "text/plain": [
       "<Figure size 800x400 with 2 Axes>"
      ]
     },
     "metadata": {},
     "output_type": "display_data"
    },
    {
     "data": {
      "image/png": "[encoded data removed]",
      "text/plain": [
       "<Figure size 800x400 with 2 Axes>"
      ]
     },
     "metadata": {},
     "output_type": "display_data"
    }
   ],
   "source": [
    "test_with_spell_data_and_create_graph('aspell.dat', corr.suggestions, max_lookup=10)\n",
    "test_with_spell_data_and_create_graph('wikipedia.dat', corr.suggestions, max_lookup=10)"
   ]
  },
  {
   "cell_type": "markdown",
   "metadata": {
    "slideshow": {
     "slide_type": "slide"
    }
   },
   "source": [
    "# Spelling corrector: Conclusion\n",
    "\n",
    "![](aspell.dat-score-graph.svg)\n",
    "(aspell.dat)"
   ]
  },
  {
   "cell_type": "markdown",
   "metadata": {
    "slideshow": {
     "slide_type": "slide"
    }
   },
   "source": [
    "![](wikipedia.dat-score-graph.svg)\n",
    "(wikipedia.dat)"
   ]
  },
  {
   "cell_type": "markdown",
   "metadata": {
    "slideshow": {
     "slide_type": "slide"
    }
   },
   "source": [
    "# Thank you for your attention\n",
    "<br>\n",
    "<br>\n",
    "All slides, the notebooks, the word files, etc. are available on the [GWDG Gitlab](https://gitlab.gwdg.de/) under [programming-pearls-spelling-checker](https://gitlab.gwdg.de/robinwilliam.hundt/programming-pearls-spelling-checker)"
   ]
  },
  {
   "cell_type": "markdown",
   "metadata": {
    "slideshow": {
     "slide_type": "slide"
    }
   },
   "source": [
    "# References  \n",
    "\n",
    "- Programming Pearls, a spelling checker. Jon Bentley. Communications of the ACM, May 1985 Volume 28 Number 5\n",
    "- 1000x Faster Spelling Correction algorithm, Wolf, [blog.faroo.com](http://blog.faroo.com/2012/06/07/improved-edit-distance-based-spelling-correction/) (published June 7, 2012)\n",
    "- How to Write a Spelling Corrector, Peter Norvig, [norvig.com](http://norvig.com/spell-correct.html) (published Feb 2007 to August 2016)  \n",
    "\n",
    "## Data sources\n",
    "- `big.txt`, Peter Norvig, [norvig.com](http://norvig.com/big.txt)\n",
    "- `frequency_dictionary_en_82_765.txt`, Wolf Garbe, [github.com](https://github.com/wolfgarbe/SymSpell/blob/master/SymSpell/frequency_dictionary_en_82_765.txt)\n",
    "- `aspell.dat` and `wikipedia.dat`, Roger Mitton, [dcs.bbk.ac.uk](http://www.dcs.bbk.ac.uk/~ROGER/corpora.html)\n",
    "\n",
    "## Libraries\n",
    "- [marisa_trie](https://github.com/pytries/marisa-trie) (MIT license)  \n",
    "- [numpy](https://github.com/numpy/numpy) (BSD-new license)  \n",
    "- [matplotlib](https://github.com/matplotlib/matplotlib)  \n",
    "- [pympler](https://github.com/pympler/pympler) (Apache-2.0)"
   ]
  },
  {
   "cell_type": "code",
   "execution_count": null,
   "metadata": {},
   "outputs": [],
   "source": []
  }
 ],
 "metadata": {
  "celltoolbar": "Slideshow",
  "git": {
   "suppress_output": true
  },
  "kernelspec": {
   "display_name": "Python 3",
   "language": "python",
   "name": "python3"
  },
  "language_info": {
   "codemirror_mode": {
    "name": "ipython",
    "version": 3
   },
   "file_extension": ".py",
   "mimetype": "text/x-python",
   "name": "python",
   "nbconvert_exporter": "python",
   "pygments_lexer": "ipython3",
   "version": "3.6.2"
  }
 },
 "nbformat": 4,
 "nbformat_minor": 2
}
